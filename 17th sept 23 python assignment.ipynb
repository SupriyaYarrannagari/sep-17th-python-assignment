{
 "cells": [
  {
   "cell_type": "code",
   "execution_count": 2,
   "id": "015e10ad",
   "metadata": {
    "scrolled": true
   },
   "outputs": [
    {
     "name": "stdout",
     "output_type": "stream",
     "text": [
      "1\n",
      "2\n",
      "3\n",
      "4\n",
      "5\n",
      "6\n",
      "7\n",
      "8\n",
      "9\n",
      "10\n"
     ]
    }
   ],
   "source": [
    "#1-Write a Python program to print numbers from 1 to 10 using a for loop.\n",
    "for i in range(1,11):\n",
    "    print(i)"
   ]
  },
  {
   "cell_type": "code",
   "execution_count": 2,
   "id": "ea2cbe80",
   "metadata": {},
   "outputs": [
    {
     "name": "stdout",
     "output_type": "stream",
     "text": [
      "0\n",
      "1\n",
      "2\n",
      "3\n",
      "4\n",
      "5\n",
      "6\n",
      "7\n",
      "8\n",
      "9\n",
      "10\n",
      "11\n",
      "12\n",
      "13\n",
      "14\n",
      "15\n",
      "16\n",
      "17\n",
      "18\n",
      "19\n",
      "20\n",
      "21\n",
      "22\n",
      "23\n",
      "24\n",
      "25\n",
      "26\n",
      "27\n",
      "28\n",
      "29\n",
      "30\n",
      "31\n",
      "32\n",
      "33\n",
      "34\n",
      "35\n",
      "36\n",
      "37\n",
      "38\n",
      "39\n",
      "40\n",
      "41\n",
      "42\n",
      "43\n",
      "44\n",
      "45\n",
      "46\n",
      "47\n",
      "48\n",
      "49\n"
     ]
    }
   ],
   "source": [
    "#2. Explain the difference between a for loop and a while loop in Python.\n",
    "#for loop example\n",
    "for i in range(50):\n",
    "    print(i)"
   ]
  },
  {
   "cell_type": "code",
   "execution_count": 4,
   "id": "9caffb90",
   "metadata": {},
   "outputs": [
    {
     "name": "stdout",
     "output_type": "stream",
     "text": [
      "0\n",
      "1\n",
      "2\n",
      "3\n",
      "4\n",
      "5\n",
      "6\n",
      "7\n",
      "8\n",
      "9\n",
      "10\n",
      "11\n",
      "12\n",
      "13\n",
      "14\n",
      "15\n",
      "16\n",
      "17\n",
      "18\n",
      "19\n",
      "20\n",
      "21\n",
      "22\n",
      "23\n",
      "24\n",
      "25\n",
      "26\n",
      "27\n",
      "28\n",
      "29\n",
      "30\n",
      "31\n",
      "32\n",
      "33\n",
      "34\n",
      "35\n",
      "36\n",
      "37\n",
      "38\n",
      "39\n",
      "40\n",
      "41\n",
      "42\n",
      "43\n",
      "44\n",
      "45\n",
      "46\n",
      "47\n",
      "48\n",
      "49\n"
     ]
    }
   ],
   "source": [
    "#while loop example\n",
    "count=0\n",
    "while count < 50:\n",
    "    print(count)\n",
    "    count +=1\n",
    "    \n",
    "    "
   ]
  },
  {
   "cell_type": "code",
   "execution_count": 10,
   "id": "38de2d67",
   "metadata": {},
   "outputs": [
    {
     "name": "stdout",
     "output_type": "stream",
     "text": [
      "1\n",
      "2\n",
      "3\n",
      "4\n",
      "5\n",
      "6\n",
      "7\n",
      "8\n",
      "9\n",
      "10\n",
      "11\n",
      "12\n",
      "13\n",
      "14\n",
      "15\n",
      "16\n",
      "17\n",
      "18\n",
      "19\n",
      "20\n",
      "21\n",
      "22\n",
      "23\n",
      "24\n",
      "25\n",
      "26\n",
      "27\n",
      "28\n",
      "29\n",
      "30\n",
      "31\n",
      "32\n",
      "33\n",
      "34\n",
      "35\n",
      "36\n",
      "37\n",
      "38\n",
      "39\n",
      "40\n",
      "41\n",
      "42\n",
      "43\n",
      "44\n",
      "45\n",
      "46\n",
      "47\n",
      "48\n",
      "49\n",
      "50\n",
      "51\n",
      "52\n",
      "53\n",
      "54\n",
      "55\n",
      "56\n",
      "57\n",
      "58\n",
      "59\n",
      "60\n",
      "61\n",
      "62\n",
      "63\n",
      "64\n",
      "65\n",
      "66\n",
      "67\n",
      "68\n",
      "69\n",
      "70\n",
      "71\n",
      "72\n",
      "73\n",
      "74\n",
      "75\n",
      "76\n",
      "77\n",
      "78\n",
      "79\n",
      "80\n",
      "81\n",
      "82\n",
      "83\n",
      "84\n",
      "85\n",
      "86\n",
      "87\n",
      "88\n",
      "89\n",
      "90\n",
      "91\n",
      "92\n",
      "93\n",
      "94\n",
      "95\n",
      "96\n",
      "97\n",
      "98\n",
      "99\n",
      "the sum of the numbers from 1 to 100 is: 4950\n"
     ]
    }
   ],
   "source": [
    "#3. Write a Python program to calculate the sum of all numbers from 1 to 100 using a for loop.\n",
    "sum = 0\n",
    "for i in range(1,100):\n",
    "    print(i)\n",
    "    sum += i\n",
    "print(\"the sum of the numbers from 1 to 100 is:\",sum)\n",
    "    "
   ]
  },
  {
   "cell_type": "code",
   "execution_count": 11,
   "id": "7e741c4a",
   "metadata": {},
   "outputs": [
    {
     "name": "stdout",
     "output_type": "stream",
     "text": [
      "1\n",
      "2\n",
      "3\n",
      "4\n",
      "5\n",
      "6\n",
      "7\n",
      "8\n",
      "9\n"
     ]
    }
   ],
   "source": [
    "#4. How do you iterate through a list using a for loop in Python.\n",
    "my_list=[1,2,3,4,5,6,7,8,9]\n",
    "for i in my_list:\n",
    "    print(i)"
   ]
  },
  {
   "cell_type": "code",
   "execution_count": 13,
   "id": "d08faff9",
   "metadata": {},
   "outputs": [
    {
     "name": "stdout",
     "output_type": "stream",
     "text": [
      "i like apple\n",
      "i like banana\n",
      "i like kiwi\n",
      "i like orange\n",
      "i like grapes\n",
      "i like mango\n",
      "i like Dragon\n"
     ]
    }
   ],
   "source": [
    "fruits = [\"apple\",\"banana\",\"kiwi\",\"orange\",\"grapes\",\"mango\",\"Dragon\"]\n",
    "for fruit in fruits:\n",
    "    print(\"i like\",fruit)"
   ]
  },
  {
   "cell_type": "code",
   "execution_count": 19,
   "id": "43b5eab6",
   "metadata": {},
   "outputs": [
    {
     "name": "stdout",
     "output_type": "stream",
     "text": [
      "40320\n"
     ]
    }
   ],
   "source": [
    "#5. Write a Python program to find the product of all elements in a list using a for loop.\n",
    "def product_of_the_elements(my_list):\n",
    "    product = 1\n",
    "    for i in my_list:\n",
    "        product *= i\n",
    "    return product\n",
    "number=[1,2,3,4,5,6,7,8]\n",
    "result=product_of_the_elements(number)\n",
    "print(result)"
   ]
  },
  {
   "cell_type": "code",
   "execution_count": 20,
   "id": "7a4c5726",
   "metadata": {},
   "outputs": [
    {
     "name": "stdout",
     "output_type": "stream",
     "text": [
      "2\n",
      "4\n",
      "6\n",
      "8\n",
      "10\n",
      "12\n",
      "14\n",
      "16\n",
      "18\n"
     ]
    }
   ],
   "source": [
    "#6.Create a Python program that prints all even numbers from 1 to 20 using a for loop.\n",
    "for i in range(1,20):\n",
    "    if i%2 == 0:\n",
    "        print(i)\n",
    "        "
   ]
  },
  {
   "cell_type": "code",
   "execution_count": 25,
   "id": "22c42234",
   "metadata": {},
   "outputs": [
    {
     "name": "stdout",
     "output_type": "stream",
     "text": [
      "the factorial of the number is: 6\n"
     ]
    }
   ],
   "source": [
    "#7. Write a Python program that calculates the factorial of a number using a for loop.\n",
    "def factorial(n):\n",
    "    result = 1\n",
    "    for i in (1,n+1):\n",
    "        result *= i\n",
    "    return result\n",
    "number=5\n",
    "result=factorial(number)\n",
    "print(f\"the factorial of the number is:\",result)\n",
    "        "
   ]
  },
  {
   "cell_type": "code",
   "execution_count": 27,
   "id": "653b8243",
   "metadata": {},
   "outputs": [
    {
     "name": "stdout",
     "output_type": "stream",
     "text": [
      "S\n",
      "u\n",
      "p\n",
      "r\n",
      "i\n",
      "y\n",
      "a\n",
      " \n",
      "Y\n",
      "a\n",
      "r\n",
      "r\n",
      "a\n",
      "n\n",
      "n\n",
      "a\n",
      "g\n",
      "a\n",
      "r\n",
      "i\n"
     ]
    }
   ],
   "source": [
    "#8. How can you iterate through the characters of a string using a for loop in Python?\n",
    "my_string=\"Supriya Yarrannagari\"\n",
    "for char in my_string:\n",
    "    print(char)"
   ]
  },
  {
   "cell_type": "code",
   "execution_count": 30,
   "id": "02a99487",
   "metadata": {},
   "outputs": [
    {
     "name": "stdout",
     "output_type": "stream",
     "text": [
      "564\n"
     ]
    }
   ],
   "source": [
    "#9. Write a Python program to find the largest number in a list using a for loop.\n",
    "def find_largest_number(n):\n",
    "    if not n:\n",
    "        return n\n",
    "    largest_number=n[0]\n",
    "    for number in n:\n",
    "        if number > largest_number:\n",
    "            largest_number = number\n",
    "    return largest_number\n",
    "my_list=[1,2,3,4,5,6,78,98,34,564]\n",
    "result=find_largest_number(my_list)\n",
    "print(result)\n",
    "   "
   ]
  },
  {
   "cell_type": "code",
   "execution_count": 33,
   "id": "7ff79363",
   "metadata": {},
   "outputs": [
    {
     "name": "stdout",
     "output_type": "stream",
     "text": [
      "enter the limit of the fibonacci series:5\n",
      "[0, 1, 1, 2, 3, 5]\n"
     ]
    }
   ],
   "source": [
    "#10. Create a Python program that prints the Fibonacci sequence up to a specified limit using a for loop.\n",
    "def fibonacci_series(n):\n",
    "    fib_sequence = [0,1]\n",
    "    while fib_sequence[-1] + fib_sequence[-2] <= n:\n",
    "        fib_sequence.append(fib_sequence[-1] + fib_sequence[-2])\n",
    "    return fib_sequence\n",
    "n=int(input(\"enter the limit of the fibonacci series:\"))\n",
    "result=fibonacci_series(n)\n",
    "print(result)"
   ]
  },
  {
   "cell_type": "code",
   "execution_count": 34,
   "id": "a8e0efae",
   "metadata": {},
   "outputs": [
    {
     "name": "stdout",
     "output_type": "stream",
     "text": [
      "enter the limit of the fibonacci series:9\n",
      "[0, 1, 1, 2, 3, 5, 8]\n"
     ]
    }
   ],
   "source": [
    "def fibonacci_series(n):\n",
    "    fib_sequence = [0,1]\n",
    "    while fib_sequence[-1] + fib_sequence[-2] <= n:\n",
    "        fib_sequence.append(fib_sequence[-1] + fib_sequence[-2])\n",
    "    return fib_sequence\n",
    "n=int(input(\"enter the limit of the fibonacci series:\"))\n",
    "result=fibonacci_series(n)\n",
    "print(result)"
   ]
  },
  {
   "cell_type": "code",
   "execution_count": 35,
   "id": "4413058e",
   "metadata": {},
   "outputs": [
    {
     "name": "stdout",
     "output_type": "stream",
     "text": [
      "enter the limit of the fibonacci series:15\n",
      "[0, 1, 1, 2, 3, 5, 8, 13]\n"
     ]
    }
   ],
   "source": [
    "def fibonacci_series(n):\n",
    "    fib_sequence = [0,1]\n",
    "    while fib_sequence[-1] + fib_sequence[-2] <= n:\n",
    "        fib_sequence.append(fib_sequence[-1] + fib_sequence[-2])\n",
    "    return fib_sequence\n",
    "n=int(input(\"enter the limit of the fibonacci series:\"))\n",
    "result=fibonacci_series(n)\n",
    "print(result)"
   ]
  },
  {
   "cell_type": "code",
   "execution_count": 41,
   "id": "8e36fafb",
   "metadata": {},
   "outputs": [
    {
     "name": "stdout",
     "output_type": "stream",
     "text": [
      "enter the string:supriya yarrannagari\n",
      "the number of vowels in the given string: 8\n"
     ]
    }
   ],
   "source": [
    "#11. Write a Python program to count the number of vowels in a given string using a for loop.\n",
    "def count_the_vowels(my_string):\n",
    "    vowels=set(\"aeiouAEIOU\")\n",
    "    count = 0\n",
    "    for char in my_string:\n",
    "        if char in vowels:\n",
    "            count += 1\n",
    "    return count\n",
    "my_string=input(\"enter the string:\")\n",
    "result=count_the_vowels(my_string)\n",
    "print(f\"the number of vowels in the given string:\",result)\n",
    "\n"
   ]
  },
  {
   "cell_type": "code",
   "execution_count": 11,
   "id": "43a138d3",
   "metadata": {},
   "outputs": [
    {
     "name": "stdout",
     "output_type": "stream",
     "text": [
      "enter the number:5\n",
      "multiplication table for 5:\n",
      "5 * 1 = 5\n",
      "5 * 2 = 10\n",
      "5 * 3 = 15\n",
      "5 * 4 = 20\n",
      "5 * 5 = 25\n",
      "5 * 6 = 30\n",
      "5 * 7 = 35\n",
      "5 * 8 = 40\n",
      "5 * 9 = 45\n",
      "5 * 10 = 50\n"
     ]
    }
   ],
   "source": [
    "#12. Create a Python program that generates a multiplication table for a given number using a for loop.\n",
    "def multiplication_table(n):\n",
    "    print(f\"multiplication table for {n}:\")\n",
    "    for i in range(1,11):\n",
    "        result=i*n\n",
    "        print(f\"{n} * {i} = {result}\")\n",
    "n=int(input(\"enter the number:\"))\n",
    "try:\n",
    "    n=int(user_input)\n",
    "    multiplication_table(n)\n",
    "except valueError:\n",
    "    print(\"invalid input please enter the valid input\")"
   ]
  },
  {
   "cell_type": "code",
   "execution_count": 20,
   "id": "5f0bcb65",
   "metadata": {},
   "outputs": [
    {
     "name": "stdout",
     "output_type": "stream",
     "text": [
      "10\n",
      "9\n",
      "8\n",
      "7\n",
      "6\n",
      "5\n",
      "4\n",
      "3\n",
      "2\n",
      "reversed list: [10, 9, 8, 7, 6, 5, 4, 3, 2]\n"
     ]
    }
   ],
   "source": [
    "#13. Write a Python program to reverse a list using a for loop.\n",
    "my_list=[2,3,4,5,6,7,8,9,10]\n",
    "reversed_list=[]\n",
    "for i in range(len(my_list)-1, -1, -1):\n",
    "    reversed_list.append(my_list[i])\n",
    "    print(my_list[i])\n",
    "print(\"reversed list:\",reversed_list)"
   ]
  },
  {
   "cell_type": "code",
   "execution_count": 26,
   "id": "7038a200",
   "metadata": {},
   "outputs": [
    {
     "name": "stdout",
     "output_type": "stream",
     "text": [
      "list1 is: [2, 3, 4, 5, 6, 7]\n",
      "list2 is: [3, 4, 5, 6, 7, 8]\n",
      "common elements: [3, 4, 5, 6, 7]\n"
     ]
    }
   ],
   "source": [
    "#14. Write a Python program to find the common elements between two lists using a for loop.\n",
    "def find_common_elements(list1,list2):\n",
    "    common_elements=[]\n",
    "    for i in list1:\n",
    "        for j in list2:\n",
    "            if i == j:\n",
    "                common_elements.append(i)\n",
    "    return common_elements   \n",
    "list1=[2,3,4,5,6,7]\n",
    "list2=[3,4,5,6,7,8]\n",
    "common_elements_result=find_common_elements(list1,list2)\n",
    "print(\"list1 is:\",list1)\n",
    "print(\"list2 is:\",list2)\n",
    "print(\"common elements:\",common_elements_result)\n"
   ]
  },
  {
   "cell_type": "code",
   "execution_count": 35,
   "id": "323e8bec",
   "metadata": {},
   "outputs": [
    {
     "name": "stdout",
     "output_type": "stream",
     "text": [
      "Key: a, Value: 1\n",
      "Key: b, Value: 2\n",
      "Key: c, Value: 3\n",
      "Key: d, Value: 4\n"
     ]
    }
   ],
   "source": [
    "#15. Explain how to use a for loop to iterate through the keys and values of a dictionary in Python.\n",
    "my_dict = {\"a\": 1, \"b\": 2, \"c\": 3, \"d\": 4}\n",
    "\n",
    "for key, value in my_dict.items():\n",
    "    print(f\"Key: {key}, Value: {value}\")\n"
   ]
  },
  {
   "cell_type": "code",
   "execution_count": 36,
   "id": "4d51aa17",
   "metadata": {},
   "outputs": [
    {
     "name": "stdout",
     "output_type": "stream",
     "text": [
      "enter the first number:5\n",
      "enter the second number:6\n",
      "the gcd of 5 and 6 is: {1}\n"
     ]
    }
   ],
   "source": [
    "#16. Write a Python program to find the GCD (Greatest Common Divisor) of two numbers using a for loop.\n",
    "def find_gcd(num1,num2):\n",
    "    while num2:\n",
    "        num1,num2=num2,num1 % num2\n",
    "    return num1\n",
    "num1=int(input(\"enter the first number:\"))\n",
    "num2=int(input(\"enter the second number:\"))\n",
    "result=find_gcd(num1,num2)\n",
    "print(f\"the gcd of {num1} and {num2} is:\",{result})"
   ]
  },
  {
   "cell_type": "code",
   "execution_count": 37,
   "id": "fbe2df25",
   "metadata": {},
   "outputs": [
    {
     "name": "stdout",
     "output_type": "stream",
     "text": [
      "enter the first number:45\n",
      "enter the second number:64\n",
      "the gcd of 45 and 64 is: {1}\n"
     ]
    }
   ],
   "source": [
    "def find_gcd(num1,num2):\n",
    "    while num2:\n",
    "        num1,num2=num2,num1 % num2\n",
    "    return num1\n",
    "num1=int(input(\"enter the first number:\"))\n",
    "num2=int(input(\"enter the second number:\"))\n",
    "result=find_gcd(num1,num2)\n",
    "print(f\"the gcd of {num1} and {num2} is:\",{result})"
   ]
  },
  {
   "cell_type": "code",
   "execution_count": 2,
   "id": "0c84e703",
   "metadata": {},
   "outputs": [
    {
     "name": "stdout",
     "output_type": "stream",
     "text": [
      "enter the string:anina\n",
      "the string is palindrome\n"
     ]
    }
   ],
   "source": [
    "#17. Create a Python program that checks if a string is a palindrome using a for loop.\n",
    "my_string=input(\"enter the string:\")\n",
    "if my_string == my_string[::-1]:\n",
    "    print(\"the string is palindrome\")\n",
    "\n",
    "else:\n",
    "    print(\"the string is not a palindrome\")\n"
   ]
  },
  {
   "cell_type": "code",
   "execution_count": 8,
   "id": "10d26395",
   "metadata": {},
   "outputs": [
    {
     "name": "stdout",
     "output_type": "stream",
     "text": [
      "original list: [2, 3, 3, 4, 5, 5, 5, 6, 6, 7, 7, 8, 9, 9, 1, 2, 1, 2]\n",
      "duplicate list: [2, 3, 4, 5, 6, 7, 8, 9, 1]\n"
     ]
    }
   ],
   "source": [
    "#18. Write a Python program to remove duplicates from a list using a for loop.\n",
    "def remove_duplicates_elements(my_list):\n",
    "    unique_list=[]\n",
    "    for item in my_list:\n",
    "        if item not in unique_list:\n",
    "            unique_list.append(item)\n",
    "    return unique_list\n",
    "original_list=[2,3,3,4,5,5,5,6,6,7,7,8,9,9,1,2,1,2]\n",
    "duplicate_list=remove_duplicates_elements(original_list)\n",
    "print(\"original list:\",original_list)\n",
    "print(\"duplicate list:\",duplicate_list)\n",
    "            \n",
    "    "
   ]
  },
  {
   "cell_type": "code",
   "execution_count": 15,
   "id": "8ba2fbac",
   "metadata": {},
   "outputs": [
    {
     "name": "stdout",
     "output_type": "stream",
     "text": [
      "enter the sentence:supriya yarrannagari\n",
      "the number of words in the sentence: 2\n"
     ]
    }
   ],
   "source": [
    "#19. Create a Python program that counts the number of words in a sentence using a for loop.\n",
    "def count_number_words(sentence):\n",
    "    count = 0\n",
    "    for word in sentence.split():\n",
    "        count += 1\n",
    "    return count\n",
    "input_string=input(\"enter the sentence:\")\n",
    "count_words=count_number_words(input_string)\n",
    "print(f\"the number of words in the sentence:\",count_words)"
   ]
  },
  {
   "cell_type": "code",
   "execution_count": 37,
   "id": "11a20fa2",
   "metadata": {},
   "outputs": [
    {
     "name": "stdout",
     "output_type": "stream",
     "text": [
      "1\n",
      "3\n",
      "5\n",
      "7\n",
      "9\n",
      "11\n",
      "13\n",
      "15\n",
      "17\n",
      "19\n",
      "21\n",
      "23\n",
      "25\n",
      "27\n",
      "29\n",
      "31\n",
      "33\n",
      "35\n",
      "37\n",
      "39\n",
      "41\n",
      "43\n",
      "45\n",
      "47\n",
      "49\n",
      "the total sum of the odd numbers: 625\n"
     ]
    }
   ],
   "source": [
    "#20. Write a Python program to find the sum of all odd numbers from 1 to 50 using a for loop.\n",
    "sum=0\n",
    "for i in range(1,50,2):\n",
    "    print(i)\n",
    "    sum += i\n",
    "print(f\"the total sum of the odd numbers:\",sum)\n"
   ]
  },
  {
   "cell_type": "code",
   "execution_count": 38,
   "id": "9b777fea",
   "metadata": {},
   "outputs": [
    {
     "name": "stdout",
     "output_type": "stream",
     "text": [
      "enter the year:4\n",
      "the 4 is a leap year\n"
     ]
    }
   ],
   "source": [
    "#21. Write a Python program that checks if a given year is a leap year using a for loop.\n",
    "def is_leap_year(year):\n",
    "    if (year %4 == 0 and year % 100 != 0 or year % 400 == 0):\n",
    "        return True\n",
    "    else:\n",
    "        return False\n",
    "year=int(input(\"enter the year:\"))\n",
    "if is_leap_year(year):\n",
    "    print(f\"the {year} is a leap year\")\n",
    "else:\n",
    "    print(f\"the {year} is not a leap year\")\n"
   ]
  },
  {
   "cell_type": "code",
   "execution_count": 39,
   "id": "dac489c5",
   "metadata": {},
   "outputs": [
    {
     "name": "stdout",
     "output_type": "stream",
     "text": [
      "enter the year:7\n",
      "the 7 is not a leap year\n"
     ]
    }
   ],
   "source": [
    "def is_leap_year(year):\n",
    "    if (year %4 == 0 and year % 100 != 0 or year % 400 == 0):\n",
    "        return True\n",
    "    else:\n",
    "        return False\n",
    "year=int(input(\"enter the year:\"))\n",
    "if is_leap_year(year):\n",
    "    print(f\"the {year} is a leap year\")\n",
    "else:\n",
    "    print(f\"the {year} is not a leap year\")\n"
   ]
  },
  {
   "cell_type": "code",
   "execution_count": 45,
   "id": "c703e42a",
   "metadata": {},
   "outputs": [
    {
     "name": "stdout",
     "output_type": "stream",
     "text": [
      "enter the number:5\n",
      "the square root of the 5.0 is approximately: 2.23606797749979\n"
     ]
    }
   ],
   "source": [
    "#22. Create a Python program that calculates the square root of a number using a for loop.\n",
    "def square_root_approximation(number,iterations=100):\n",
    "    guess = number / 2.0\n",
    "    for _ in range(iterations):\n",
    "        guess=0.5*(guess+number /guess)\n",
    "    return guess\n",
    "user_input=float(input(\"enter the number:\"))\n",
    "result=square_root_approximation(user_input)\n",
    "print(f\"the square root of the {user_input} is approximately:\",result)"
   ]
  },
  {
   "cell_type": "code",
   "execution_count": 49,
   "id": "435295a7",
   "metadata": {},
   "outputs": [
    {
     "name": "stdout",
     "output_type": "stream",
     "text": [
      "enter the number:5\n",
      "enter the number:8\n",
      "the lcm of 5 and 8 is: 40\n"
     ]
    }
   ],
   "source": [
    "#23. Write a Python program to find the LCM (Least Common Multiple) of two numbers using a for loop.\n",
    "def find_least_common_multiple(num1,num2):\n",
    "    return num1 * num2\n",
    "num1=int(input(\"enter the number:\"))\n",
    "num2=int(input(\"enter the number:\"))\n",
    "least_common_number=find_least_common_multiple(num1,num2)\n",
    "print(f\"the lcm of {num1} and {num2} is:\",least_common_number)"
   ]
  },
  {
   "cell_type": "markdown",
   "id": "f3dd0bf7",
   "metadata": {},
   "source": [
    "# IF ELSE"
   ]
  },
  {
   "cell_type": "code",
   "execution_count": 54,
   "id": "2f7790f1",
   "metadata": {},
   "outputs": [
    {
     "name": "stdout",
     "output_type": "stream",
     "text": [
      "enter the number:4\n",
      "4 is even number\n"
     ]
    }
   ],
   "source": [
    "#1. Write a Python program to check if a number is positive, negative, or zero using an if-else statement.\n",
    "number=int(input(\"enter the number:\"))\n",
    "if number%2 == 0:\n",
    "    print(f\"{number} is even number\")\n",
    "elif number == 0:\n",
    "    print(f\"{number} is zero\")\n",
    "else:\n",
    "    print(f\"{number} is negative number\")"
   ]
  },
  {
   "cell_type": "code",
   "execution_count": 55,
   "id": "e7eb845c",
   "metadata": {},
   "outputs": [
    {
     "name": "stdout",
     "output_type": "stream",
     "text": [
      "enter the number:5\n",
      "5 is negative number\n"
     ]
    }
   ],
   "source": [
    "number=int(input(\"enter the number:\"))\n",
    "if number%2 == 0:\n",
    "    print(f\"{number} is even number\")\n",
    "elif number == 0:\n",
    "    print(f\"{number} is zero\")\n",
    "else:\n",
    "    print(f\"{number} is negative number\")"
   ]
  },
  {
   "cell_type": "code",
   "execution_count": 56,
   "id": "3337abf8",
   "metadata": {},
   "outputs": [
    {
     "name": "stdout",
     "output_type": "stream",
     "text": [
      "enter the number:0\n",
      "0 is even number\n"
     ]
    }
   ],
   "source": [
    "number=int(input(\"enter the number:\"))\n",
    "if number%2 == 0:\n",
    "    print(f\"{number} is even number\")\n",
    "elif number == 0:\n",
    "    print(f\"{number} is zero\")\n",
    "else:\n",
    "    print(f\"{number} is negative number\")"
   ]
  },
  {
   "cell_type": "code",
   "execution_count": 57,
   "id": "ad4c99ae",
   "metadata": {},
   "outputs": [
    {
     "name": "stdout",
     "output_type": "stream",
     "text": [
      "enter the number:4\n",
      "even number\n"
     ]
    }
   ],
   "source": [
    "#2. Create a Python program that checks if a given number is even or odd using an if-else statement.\n",
    "number=int(input(\"enter the number:\"))\n",
    "if number%2 ==0:\n",
    "    print(\"even number\")\n",
    "else:\n",
    "    print(\"odd number\")"
   ]
  },
  {
   "cell_type": "code",
   "execution_count": 58,
   "id": "f5b46374",
   "metadata": {},
   "outputs": [
    {
     "name": "stdout",
     "output_type": "stream",
     "text": [
      "enter the number:9\n",
      "odd number\n"
     ]
    }
   ],
   "source": [
    "number=int(input(\"enter the number:\"))\n",
    "if number%2 ==0:\n",
    "    print(\"even number\")\n",
    "else:\n",
    "    print(\"odd number\")"
   ]
  },
  {
   "cell_type": "code",
   "execution_count": 64,
   "id": "35378562",
   "metadata": {},
   "outputs": [
    {
     "name": "stdout",
     "output_type": "stream",
     "text": [
      "enter the number:4\n",
      "the number is positive\n"
     ]
    }
   ],
   "source": [
    "#3. How can you use nested if-else statements in Python, and provide an example?\n",
    "num=int(input(\"enter the number:\"))\n",
    "if num > 0:\n",
    "    print(\"the number is positive\")\n",
    "elif num == 0:\n",
    "    print(\"the number is zero\")\n",
    "    if num < 0:\n",
    "        print(\"the number is negative\")\n",
    "    else:\n",
    "        print(\"invalid number, enter the valid number\")"
   ]
  },
  {
   "cell_type": "code",
   "execution_count": 62,
   "id": "38cbe59a",
   "metadata": {},
   "outputs": [
    {
     "name": "stdout",
     "output_type": "stream",
     "text": [
      "enter the number:0\n",
      "the number is zero\n",
      "invalid number, enter the valid number\n"
     ]
    }
   ],
   "source": [
    "num=int(input(\"enter the number:\"))\n",
    "if num > 0:\n",
    "    print(\"the number is positive\")\n",
    "elif num == 0:\n",
    "    print(\"the number is zero\")\n",
    "    if num < 0:\n",
    "        print(\"the number is negative\")\n",
    "    else:\n",
    "        print(\"invalid number, enter the valid number\")"
   ]
  },
  {
   "cell_type": "code",
   "execution_count": 63,
   "id": "2da03668",
   "metadata": {},
   "outputs": [
    {
     "name": "stdout",
     "output_type": "stream",
     "text": [
      "enter the number:7\n",
      "the number is positive\n"
     ]
    }
   ],
   "source": [
    "num=int(input(\"enter the number:\"))\n",
    "if num > 0:\n",
    "    print(\"the number is positive\")\n",
    "elif num == 0:\n",
    "    print(\"the number is zero\")\n",
    "    if num < 0:\n",
    "        print(\"the number is negative\")\n",
    "    else:\n",
    "        print(\"invalid number, enter the valid number\")"
   ]
  },
  {
   "cell_type": "code",
   "execution_count": 70,
   "id": "37821342",
   "metadata": {},
   "outputs": [
    {
     "name": "stdout",
     "output_type": "stream",
     "text": [
      "enter the number:34\n",
      "enter the number:56\n",
      "enter the number:89\n",
      "the largest among the 34 and 56 and 89 is: 89\n"
     ]
    }
   ],
   "source": [
    "#4. Write a Python program to determine the largest of three numbers using if-else.\n",
    "num1=int(input(\"enter the number:\"))\n",
    "num2=int(input(\"enter the number:\"))\n",
    "num3=int(input(\"enter the number:\"))\n",
    "if num1 >= num2 and num1 >= num3:\n",
    "    largest = num1\n",
    "elif num2 >= num1 and num2 >= num3:\n",
    "    largest = num2\n",
    "else:\n",
    "    largest = num3\n",
    "print(f\"the largest among the {num1} and {num2} and {num3} is:\",largest)"
   ]
  },
  {
   "cell_type": "code",
   "execution_count": 72,
   "id": "740bd912",
   "metadata": {},
   "outputs": [
    {
     "name": "stdout",
     "output_type": "stream",
     "text": [
      "enter the number:4\n",
      "the absolute value is 4\n"
     ]
    }
   ],
   "source": [
    "#5. Write a Python program that calculates the absolute value of a number using if-else.\n",
    "num=int(input(\"enter the number:\"))\n",
    "if num >= 0:\n",
    "    absolute_value = num\n",
    "else:\n",
    "    absolute_value =num\n",
    "print(f\"the absolute value is {num}\")"
   ]
  },
  {
   "cell_type": "code",
   "execution_count": 73,
   "id": "2af0656b",
   "metadata": {},
   "outputs": [
    {
     "name": "stdout",
     "output_type": "stream",
     "text": [
      "enter the number:5\n",
      "the absolute value is 5\n"
     ]
    }
   ],
   "source": [
    "num=int(input(\"enter the number:\"))\n",
    "if num >= 0:\n",
    "    absolute_value = num\n",
    "else:\n",
    "    absolute_value =num\n",
    "print(f\"the absolute value is {num}\")"
   ]
  },
  {
   "cell_type": "code",
   "execution_count": 74,
   "id": "c9489f29",
   "metadata": {},
   "outputs": [
    {
     "name": "stdout",
     "output_type": "stream",
     "text": [
      "enter the number:-1\n",
      "the absolute value is -1\n"
     ]
    }
   ],
   "source": [
    "num=int(input(\"enter the number:\"))\n",
    "if num >= 0:\n",
    "    absolute_value = num\n",
    "else:\n",
    "    absolute_value =num\n",
    "print(f\"the absolute value is {num}\")"
   ]
  },
  {
   "cell_type": "code",
   "execution_count": 84,
   "id": "7937a9cc",
   "metadata": {},
   "outputs": [
    {
     "name": "stdout",
     "output_type": "stream",
     "text": [
      "it is a vowel \n"
     ]
    }
   ],
   "source": [
    "#6. Create a Python program that checks if a given character is a vowel or consonant using if-else.\n",
    "def check_character_vowels(char):\n",
    "    vowels=set(['a','e','i','o','u'])\n",
    "    if char.lower() in vowels:\n",
    "        print(\"it is a vowel \")\n",
    "    else:\n",
    "        print(\"it is a consonent\")\n",
    "check_character_vowels('a')"
   ]
  },
  {
   "cell_type": "code",
   "execution_count": 85,
   "id": "a71c087d",
   "metadata": {},
   "outputs": [
    {
     "name": "stdout",
     "output_type": "stream",
     "text": [
      "it is a consonent\n"
     ]
    }
   ],
   "source": [
    "check_character_vowels('t')"
   ]
  },
  {
   "cell_type": "code",
   "execution_count": 86,
   "id": "4f19094a",
   "metadata": {},
   "outputs": [
    {
     "name": "stdout",
     "output_type": "stream",
     "text": [
      "it is a consonent\n"
     ]
    }
   ],
   "source": [
    "check_character_vowels('h')"
   ]
  },
  {
   "cell_type": "code",
   "execution_count": 87,
   "id": "2b5d0708",
   "metadata": {},
   "outputs": [
    {
     "name": "stdout",
     "output_type": "stream",
     "text": [
      "enter the number:34\n",
      "the user is eligible to vote\n"
     ]
    }
   ],
   "source": [
    "#7. Write a Python program to determine if a user is eligible to vote based on their age using if-else.\n",
    "age=int(input(\"enter the number:\"))\n",
    "if age >= 18:\n",
    "    print(\"the user is eligible to vote\")\n",
    "else:\n",
    "    print(\"the user is not eligible to vote\")"
   ]
  },
  {
   "cell_type": "code",
   "execution_count": 88,
   "id": "974fb1c8",
   "metadata": {},
   "outputs": [
    {
     "name": "stdout",
     "output_type": "stream",
     "text": [
      "enter the number:13\n",
      "the user is not eligible to vote\n"
     ]
    }
   ],
   "source": [
    "age=int(input(\"enter the number:\"))\n",
    "if age >= 18:\n",
    "    print(\"the user is eligible to vote\")\n",
    "else:\n",
    "    print(\"the user is not eligible to vote\")"
   ]
  },
  {
   "cell_type": "code",
   "execution_count": 92,
   "id": "137803aa",
   "metadata": {},
   "outputs": [
    {
     "name": "stdout",
     "output_type": "stream",
     "text": [
      "enter the amount:456\n",
      "discount amount:0.00\n"
     ]
    }
   ],
   "source": [
    "#8. Create a Python program that calculates the discount amount based on the purchase amount using if-else.\n",
    "def discount_calculation(purchase_amount):\n",
    "    if purchase_amount >= 1000:\n",
    "        discount_percentage = 10\n",
    "    elif purchase_amount >= 500:\n",
    "        discount_percentage = 5\n",
    "    else:\n",
    "        discount_percentage = 0\n",
    "    discount_amount=(discount_percentage/100)* purchase_amount\n",
    "    return discount_amount\n",
    "purchase_amount=int(input(\"enter the amount:\"))\n",
    "result=discount_calculation(purchase_amount)\n",
    "print(f\"discount amount:{result:.2f}\")\n"
   ]
  },
  {
   "cell_type": "code",
   "execution_count": 93,
   "id": "aa32746a",
   "metadata": {},
   "outputs": [
    {
     "name": "stdout",
     "output_type": "stream",
     "text": [
      "enter the amount:1080\n",
      "discount amount:108.00\n"
     ]
    }
   ],
   "source": [
    "def discount_calculation(purchase_amount):\n",
    "    if purchase_amount >= 1000:\n",
    "        discount_percentage = 10\n",
    "    elif purchase_amount >= 500:\n",
    "        discount_percentage = 5\n",
    "    else:\n",
    "        discount_percentage = 0\n",
    "    discount_amount=(discount_percentage/100)* purchase_amount\n",
    "    return discount_amount\n",
    "purchase_amount=int(input(\"enter the amount:\"))\n",
    "result=discount_calculation(purchase_amount)\n",
    "print(f\"discount amount:{result:.2f}\")\n"
   ]
  },
  {
   "cell_type": "code",
   "execution_count": 94,
   "id": "126b4aea",
   "metadata": {},
   "outputs": [
    {
     "name": "stdout",
     "output_type": "stream",
     "text": [
      "enter the amount:567\n",
      "discount amount:28.35\n"
     ]
    }
   ],
   "source": [
    "def discount_calculation(purchase_amount):\n",
    "    if purchase_amount >= 1000:\n",
    "        discount_percentage = 10\n",
    "    elif purchase_amount >= 500:\n",
    "        discount_percentage = 5\n",
    "    else:\n",
    "        discount_percentage = 0\n",
    "    discount_amount=(discount_percentage/100)* purchase_amount\n",
    "    return discount_amount\n",
    "purchase_amount=int(input(\"enter the amount:\"))\n",
    "result=discount_calculation(purchase_amount)\n",
    "print(f\"discount amount:{result}\")\n"
   ]
  },
  {
   "cell_type": "code",
   "execution_count": 95,
   "id": "dbfa453d",
   "metadata": {},
   "outputs": [
    {
     "name": "stdout",
     "output_type": "stream",
     "text": [
      "enter the amount:1080\n",
      "discount amount:108.0\n"
     ]
    }
   ],
   "source": [
    "def discount_calculation(purchase_amount):\n",
    "    if purchase_amount >= 1000:\n",
    "        discount_percentage = 10\n",
    "    elif purchase_amount >= 500:\n",
    "        discount_percentage = 5\n",
    "    else:\n",
    "        discount_percentage = 0\n",
    "    discount_amount=(discount_percentage/100)* purchase_amount\n",
    "    return discount_amount\n",
    "purchase_amount=int(input(\"enter the amount:\"))\n",
    "result=discount_calculation(purchase_amount)\n",
    "print(f\"discount amount:{result}\")\n"
   ]
  },
  {
   "cell_type": "code",
   "execution_count": 126,
   "id": "7ba336cc",
   "metadata": {},
   "outputs": [
    {
     "name": "stdout",
     "output_type": "stream",
     "text": [
      "the item is not within the the range\n"
     ]
    }
   ],
   "source": [
    "#9. Write a Python program to check if a number is within a specified range using if-else.\n",
    "def check_number_in_range(number,lower_limit,upper_limit):\n",
    "    \n",
    "    if  lower_limit<= number <= upper_limit:\n",
    "        print(\"the item is within the range\")\n",
    "    else:\n",
    "        print(\"the item is not within the the range\")\n",
    "number=90\n",
    "lower_limit=1\n",
    "upper_limit=50\n",
    "check_number_in_range(number,lower_limit,upper_limit)"
   ]
  },
  {
   "cell_type": "code",
   "execution_count": 127,
   "id": "73e51fc7",
   "metadata": {},
   "outputs": [
    {
     "name": "stdout",
     "output_type": "stream",
     "text": [
      "the item is within the range\n"
     ]
    }
   ],
   "source": [
    "def check_number_in_range(number,lower_limit,upper_limit):\n",
    "    \n",
    "    if  lower_limit<= number <= upper_limit:\n",
    "        print(\"the item is within the range\")\n",
    "    else:\n",
    "        print(\"the item is not within the the range\")\n",
    "number=49\n",
    "lower_limit=1\n",
    "upper_limit=50\n",
    "check_number_in_range(number,lower_limit,upper_limit)"
   ]
  },
  {
   "cell_type": "code",
   "execution_count": 6,
   "id": "f0c3a31d",
   "metadata": {},
   "outputs": [
    {
     "name": "stdout",
     "output_type": "stream",
     "text": [
      "enter the number:95\n",
      "grade: A\n"
     ]
    }
   ],
   "source": [
    "#10. Create a Python program that determines the grade of a student based on their score using if-else.\n",
    "score=int(input(\"enter the number:\"))\n",
    "if score >= 90:\n",
    "    grade ='A'\n",
    "elif score >= 80:\n",
    "    grade = 'B'\n",
    "elif score >= 70:\n",
    "    grade = 'C'\n",
    "elif score >= 60:\n",
    "    grade = 'D'\n",
    "else:\n",
    "    grade ='F'\n",
    "print(f\"grade:\",grade)"
   ]
  },
  {
   "cell_type": "code",
   "execution_count": 16,
   "id": "f46a55c1",
   "metadata": {},
   "outputs": [
    {
     "name": "stdout",
     "output_type": "stream",
     "text": [
      "enter the number:85\n",
      "grade: B\n"
     ]
    }
   ],
   "source": [
    "score=int(input(\"enter the number:\"))\n",
    "if score >= 90:\n",
    "    grade ='A'\n",
    "elif score >= 80:\n",
    "    grade = 'B'\n",
    "elif score >= 70:\n",
    "    grade = 'C'\n",
    "elif score >= 60:\n",
    "    grade = 'D'\n",
    "else:\n",
    "    grade ='F'\n",
    "print(f\"grade:\",grade)"
   ]
  },
  {
   "cell_type": "code",
   "execution_count": 15,
   "id": "816625e5",
   "metadata": {},
   "outputs": [
    {
     "name": "stdout",
     "output_type": "stream",
     "text": [
      "enter the number:65\n",
      "grade: D\n"
     ]
    }
   ],
   "source": [
    "score=int(input(\"enter the number:\"))\n",
    "if score >= 90:\n",
    "    grade ='A'\n",
    "elif score >= 80:\n",
    "    grade = 'B'\n",
    "elif score >= 70:\n",
    "    grade = 'C'\n",
    "elif score >= 60:\n",
    "    grade = 'D'\n",
    "else:\n",
    "    grade ='F'\n",
    "\n",
    "print(f\"grade:\",grade)"
   ]
  },
  {
   "cell_type": "code",
   "execution_count": 17,
   "id": "36b277d8",
   "metadata": {},
   "outputs": [
    {
     "name": "stdout",
     "output_type": "stream",
     "text": [
      "enter the number:80\n",
      "grade: B\n"
     ]
    }
   ],
   "source": [
    "core=int(input(\"enter the number:\"))\n",
    "if score >= 90:\n",
    "    grade ='A'\n",
    "elif score >= 80:\n",
    "    grade = 'B'\n",
    "elif score >= 70:\n",
    "    grade = 'C'\n",
    "elif score >= 60:\n",
    "    grade = 'D'\n",
    "else:\n",
    "    grade ='F'\n",
    "print(f\"grade:\",grade)"
   ]
  },
  {
   "cell_type": "code",
   "execution_count": 19,
   "id": "b9095a09",
   "metadata": {},
   "outputs": [
    {
     "name": "stdout",
     "output_type": "stream",
     "text": [
      "enter the string:supriya reddy\n",
      "the strig is not empty\n"
     ]
    }
   ],
   "source": [
    "#11. Write a Python program to check if a string is empty or not using if-else.\n",
    "def is_string_empty(my_string):\n",
    "    if not my_string:\n",
    "        return True\n",
    "    else:\n",
    "        return False\n",
    "my_string=input(\"enter the string:\")    \n",
    "if is_string_empty(my_string):\n",
    "    print(\"the string is empty\")\n",
    "else:\n",
    "    print(\"the strig is not empty\")"
   ]
  },
  {
   "cell_type": "code",
   "execution_count": 34,
   "id": "8aa6f3c7",
   "metadata": {},
   "outputs": [
    {
     "name": "stdout",
     "output_type": "stream",
     "text": [
      "enter first number:45\n",
      "enter second number:45\n",
      "enter third number:45\n",
      "equilateral\n"
     ]
    }
   ],
   "source": [
    "#12. Create a Python program that identifies the type of a triangle (e.g., equilateral, isosceles, orscalene) based on input values using if-else.\n",
    "def identified_triangle_type(side1,side2,side3):\n",
    "    if side1 == side2 == side3:\n",
    "        return \"equilateral\"\n",
    "    elif side1==side2 or side2==side3 or side3==side1:\n",
    "        return \"isosceles\"\n",
    "    else:\n",
    "        return \"orscalene\"\n",
    "side1=float(input(\"enter first number:\"))\n",
    "side2=float(input(\"enter second number:\"))\n",
    "side3=float(input(\"enter third number:\"))\n",
    "result=identified_triangle_type(side1,side2,side3)\n",
    "print(result)\n",
    "    "
   ]
  },
  {
   "cell_type": "code",
   "execution_count": 35,
   "id": "42e3b0af",
   "metadata": {},
   "outputs": [
    {
     "name": "stdout",
     "output_type": "stream",
     "text": [
      "enter first number:67\n",
      "enter second number:87\n",
      "enter third number:98\n",
      "orscalene\n"
     ]
    }
   ],
   "source": [
    "def identified_triangle_type(side1,side2,side3):\n",
    "    if side1 == side2 == side3:\n",
    "        return \"equilateral\"\n",
    "    elif side1==side2 or side2==side3 or side3==side1:\n",
    "        return \"isosceles\"\n",
    "    else:\n",
    "        return \"orscalene\"\n",
    "side1=float(input(\"enter first number:\"))\n",
    "side2=float(input(\"enter second number:\"))\n",
    "side3=float(input(\"enter third number:\"))\n",
    "result=identified_triangle_type(side1,side2,side3)\n",
    "print(result)"
   ]
  },
  {
   "cell_type": "code",
   "execution_count": 36,
   "id": "2338d8c7",
   "metadata": {},
   "outputs": [
    {
     "name": "stdout",
     "output_type": "stream",
     "text": [
      "enter first number:45\n",
      "enter second number:65\n",
      "enter third number:56\n",
      "orscalene\n"
     ]
    }
   ],
   "source": [
    "def identified_triangle_type(side1,side2,side3):\n",
    "    if side1 == side2 == side3:\n",
    "        return \"equilateral\"\n",
    "    elif side1==side2 or side2==side3 or side3==side1:\n",
    "        return \"isosceles\"\n",
    "    else:\n",
    "        return \"orscalene\"\n",
    "side1=float(input(\"enter first number:\"))\n",
    "side2=float(input(\"enter second number:\"))\n",
    "side3=float(input(\"enter third number:\"))\n",
    "result=identified_triangle_type(side1,side2,side3)\n",
    "print(result)"
   ]
  },
  {
   "cell_type": "code",
   "execution_count": 37,
   "id": "1ca9bfe7",
   "metadata": {},
   "outputs": [
    {
     "name": "stdout",
     "output_type": "stream",
     "text": [
      "enter first number:45\n",
      "enter second number:54\n",
      "enter third number:45\n",
      "isosceles\n"
     ]
    }
   ],
   "source": [
    "def identified_triangle_type(side1,side2,side3):\n",
    "    if side1 == side2 == side3:\n",
    "        return \"equilateral\"\n",
    "    elif side1==side2 or side2==side3 or side3==side1:\n",
    "        return \"isosceles\"\n",
    "    else:\n",
    "        return \"orscalene\"\n",
    "side1=float(input(\"enter first number:\"))\n",
    "side2=float(input(\"enter second number:\"))\n",
    "side3=float(input(\"enter third number:\"))\n",
    "result=identified_triangle_type(side1,side2,side3)\n",
    "print(result)"
   ]
  },
  {
   "cell_type": "code",
   "execution_count": 44,
   "id": "1015e189",
   "metadata": {},
   "outputs": [
    {
     "name": "stdout",
     "output_type": "stream",
     "text": [
      "enter a number:5\n",
      "Friday\n"
     ]
    }
   ],
   "source": [
    "#13. Write a Python program to determine the day of the week based on a user-provided number using if-else.\n",
    "def determine_day_of_week(day_number):\n",
    "    if day_number == 1:\n",
    "        return \"Monday\"\n",
    "    elif day_number == 2:\n",
    "        return \"Tuesday\"\n",
    "    elif day_number == 3:\n",
    "        return \"Wednesday\"\n",
    "    elif day_number == 4:\n",
    "        return \"Thursday\"\n",
    "    elif day_number == 5:\n",
    "        return \"Friday\"\n",
    "    elif day_number == 6:\n",
    "        return \"Saturday\"\n",
    "    elif day_number == 7:\n",
    "        return \"Sunday\"\n",
    "    else:\n",
    "        return \"None\"\n",
    "user_number=int(input(\"enter a number:\"))\n",
    "day_of_week=determine_day_of_week(user_number)\n",
    "print(day_of_week)"
   ]
  },
  {
   "cell_type": "code",
   "execution_count": 43,
   "id": "5c272298",
   "metadata": {},
   "outputs": [
    {
     "name": "stdout",
     "output_type": "stream",
     "text": [
      "enter a number:7\n",
      "Sunday\n"
     ]
    }
   ],
   "source": [
    "def determine_day_of_week(day_number):\n",
    "    if day_number == 1:\n",
    "        return \"Monday\"\n",
    "    elif day_number == 2:\n",
    "        return \"Tuesday\"\n",
    "    elif day_number == 3:\n",
    "        return \"Wednesday\"\n",
    "    elif day_number == 4:\n",
    "        return \"Thursday\"\n",
    "    elif day_number == 5:\n",
    "        return \"Friday\"\n",
    "    elif day_number == 6:\n",
    "        return \"Saturday\"\n",
    "    elif day_number == 7:\n",
    "        return \"Sunday\"\n",
    "    else:\n",
    "        return \"None\"\n",
    "user_number=int(input(\"enter a number:\"))\n",
    "day_of_week=determine_day_of_week(user_number)\n",
    "print(day_of_week)"
   ]
  },
  {
   "cell_type": "code",
   "execution_count": 45,
   "id": "8de580a8",
   "metadata": {},
   "outputs": [
    {
     "name": "stdout",
     "output_type": "stream",
     "text": [
      "enter a number:8\n",
      "None\n"
     ]
    }
   ],
   "source": [
    "def determine_day_of_week(day_number):\n",
    "    if day_number == 1:\n",
    "        return \"Monday\"\n",
    "    elif day_number == 2:\n",
    "        return \"Tuesday\"\n",
    "    elif day_number == 3:\n",
    "        return \"Wednesday\"\n",
    "    elif day_number == 4:\n",
    "        return \"Thursday\"\n",
    "    elif day_number == 5:\n",
    "        return \"Friday\"\n",
    "    elif day_number == 6:\n",
    "        return \"Saturday\"\n",
    "    elif day_number == 7:\n",
    "        return \"Sunday\"\n",
    "    else:\n",
    "        return \"None\"\n",
    "user_number=int(input(\"enter a number:\"))\n",
    "day_of_week=determine_day_of_week(user_number)\n",
    "print(day_of_week)"
   ]
  },
  {
   "cell_type": "code",
   "execution_count": 48,
   "id": "93c3e76a",
   "metadata": {},
   "outputs": [
    {
     "name": "stdout",
     "output_type": "stream",
     "text": [
      "enter a year:4\n",
      "it is a leap year\n"
     ]
    }
   ],
   "source": [
    "#14. Create a Python program that checks if a given year is a leap year using both if-else and a function.\n",
    "def is_leap_year(year):\n",
    "    if (year%4 == 0 and year%100!=0 or year%400 == 0):\n",
    "        return True\n",
    "    else:\n",
    "        return False\n",
    "year=int(input(\"enter a year:\"))\n",
    "if is_leap_year(year):\n",
    "    print(\"it is a leap year\")\n",
    "else:\n",
    "    print(\"it is not a leap year\")   "
   ]
  },
  {
   "cell_type": "code",
   "execution_count": 49,
   "id": "1386d564",
   "metadata": {},
   "outputs": [
    {
     "name": "stdout",
     "output_type": "stream",
     "text": [
      "enter a year:6\n",
      "it is not a leap year\n"
     ]
    }
   ],
   "source": [
    "def is_leap_year(year):\n",
    "    if (year%4 == 0 and year%100!=0 or year%400 == 0):\n",
    "        return True\n",
    "    else:\n",
    "        return False\n",
    "year=int(input(\"enter a year:\"))\n",
    "if is_leap_year(year):\n",
    "    print(\"it is a leap year\")\n",
    "else:\n",
    "    print(\"it is not a leap year\")   "
   ]
  },
  {
   "cell_type": "code",
   "execution_count": 50,
   "id": "c04ed9c4",
   "metadata": {},
   "outputs": [
    {
     "name": "stdout",
     "output_type": "stream",
     "text": [
      "Enter the numerator: 5\n",
      "Enter the denominator: 8\n",
      "The result of the division is: 0.625\n"
     ]
    }
   ],
   "source": [
    "#15. How do you use the \"assert\" statement in Python to add debugging checks within if-else blocks?\n",
    "def divide_numbers(a, b):\n",
    "    assert b != 0 \n",
    "    result = a / b\n",
    "    return result\n",
    "numerator = float(input(\"Enter the numerator: \"))\n",
    "denominator = float(input(\"Enter the denominator: \"))\n",
    "try:\n",
    "    result = divide_numbers(numerator, denominator)\n",
    "    print(f\"The result of the division is: {result}\")\n",
    "except AssertionError as e:\n",
    "    print(f\"Error: {e}\")"
   ]
  },
  {
   "cell_type": "code",
   "execution_count": 51,
   "id": "0075a8b9",
   "metadata": {},
   "outputs": [
    {
     "name": "stdout",
     "output_type": "stream",
     "text": [
      "Enter the numerator: 5\n",
      "Enter the denominator: 0\n",
      "Error: \n"
     ]
    }
   ],
   "source": [
    "def divide_numbers(a, b):\n",
    "    assert b != 0 \n",
    "    result = a / b\n",
    "    return result\n",
    "numerator = float(input(\"Enter the numerator: \"))\n",
    "denominator = float(input(\"Enter the denominator: \"))\n",
    "try:\n",
    "    result = divide_numbers(numerator, denominator)\n",
    "    print(f\"The result of the division is: {result}\")\n",
    "except AssertionError as e:\n",
    "    print(f\"Error: {e}\")"
   ]
  },
  {
   "cell_type": "code",
   "execution_count": 52,
   "id": "3e0c3c79",
   "metadata": {},
   "outputs": [
    {
     "name": "stdout",
     "output_type": "stream",
     "text": [
      "Enter the numerator: 0\n",
      "Enter the denominator: 5\n",
      "The result of the division is: 0.0\n"
     ]
    }
   ],
   "source": [
    "def divide_numbers(a, b):\n",
    "    assert b != 0 \n",
    "    result = a / b\n",
    "    return result\n",
    "numerator = float(input(\"Enter the numerator: \"))\n",
    "denominator = float(input(\"Enter the denominator: \"))\n",
    "try:\n",
    "    result = divide_numbers(numerator, denominator)\n",
    "    print(f\"The result of the division is: {result}\")\n",
    "except AssertionError as e:\n",
    "    print(f\"Error: {e}\")"
   ]
  },
  {
   "cell_type": "code",
   "execution_count": 55,
   "id": "ae186de0",
   "metadata": {},
   "outputs": [
    {
     "name": "stdout",
     "output_type": "stream",
     "text": [
      "enter the age:65\n",
      "old age person\n"
     ]
    }
   ],
   "source": [
    "#16. Create a Python program that determines the eligibility of a person for a senior citizen discount based on age using if-else.\n",
    "def eligibility_senior_citizen(age):\n",
    "    if age >=60:\n",
    "        return \"old age person\"\n",
    "    elif age >=45:\n",
    "        return \"middle age person\"\n",
    "    elif age >=18:\n",
    "        return \"adult\"\n",
    "    else:\n",
    "        return \"child\"\n",
    "age=int(input(\"enter the age:\"))\n",
    "senior_citizen_discount=eligibility_senior_citizen(age)\n",
    "print(senior_citizen_discount)\n"
   ]
  },
  {
   "cell_type": "code",
   "execution_count": 56,
   "id": "7259be75",
   "metadata": {},
   "outputs": [
    {
     "name": "stdout",
     "output_type": "stream",
     "text": [
      "Enter your age: 45\n",
      "You are not eligible for a senior citizen discount.\n"
     ]
    }
   ],
   "source": [
    "def check_senior_citizen_discount(age):\n",
    "    if age >= 60:\n",
    "        return True\n",
    "    else:\n",
    "        return False\n",
    "user_age = int(input(\"Enter your age: \"))\n",
    "\n",
    "if check_senior_citizen_discount(user_age):\n",
    "    print(\"You are eligible for a senior citizen discount.\")\n",
    "else:\n",
    "    print(\"You are not eligible for a senior citizen discount.\")"
   ]
  },
  {
   "cell_type": "code",
   "execution_count": 57,
   "id": "9647cf38",
   "metadata": {},
   "outputs": [
    {
     "name": "stdout",
     "output_type": "stream",
     "text": [
      "Enter your age: 61\n",
      "You are eligible for a senior citizen discount.\n"
     ]
    }
   ],
   "source": [
    "def check_senior_citizen_discount(age):\n",
    "    if age >= 60:\n",
    "        return True\n",
    "    else:\n",
    "        return False\n",
    "user_age = int(input(\"Enter your age: \"))\n",
    "\n",
    "if check_senior_citizen_discount(user_age):\n",
    "    print(\"You are eligible for a senior citizen discount.\")\n",
    "else:\n",
    "    print(\"You are not eligible for a senior citizen discount.\")"
   ]
  },
  {
   "cell_type": "code",
   "execution_count": 64,
   "id": "dfea267a",
   "metadata": {},
   "outputs": [
    {
     "name": "stdout",
     "output_type": "stream",
     "text": [
      "enter the string:suppi\n",
      "please enter a valid single character\n"
     ]
    }
   ],
   "source": [
    "#17. Write a Python program to categorize a given character as uppercase, lowercase, or neither using if-else.\n",
    "def categorize_given_character(char):\n",
    "    if char.isupper():\n",
    "        return \"uppercase\"\n",
    "    elif char.islower():\n",
    "        return \"lowercase\"\n",
    "    else:\n",
    "        return \"neither uppercase or lowercase\"\n",
    "input_string=input(\"enter the string:\")\n",
    "if len(input_string)== 1 and input_string.isalpha():\n",
    "    result=categorize_given_character(input_string)\n",
    "    print(f\"the character {input_string} is: {result}\")\n",
    "else:\n",
    "       print(\"please enter a valid single character\")\n"
   ]
  },
  {
   "cell_type": "code",
   "execution_count": 65,
   "id": "3227face",
   "metadata": {},
   "outputs": [
    {
     "name": "stdout",
     "output_type": "stream",
     "text": [
      "Enter a character: 6\n",
      "Please enter a valid single character.\n"
     ]
    }
   ],
   "source": [
    "def categorize_character(char):\n",
    "    if char.isupper():\n",
    "        return \"Uppercase\"\n",
    "    elif char.islower():\n",
    "        return \"Lowercase\"\n",
    "    else:\n",
    "        return \"Neither uppercase nor lowercase\"\n",
    "user_char = input(\"Enter a character: \")\n",
    "\n",
    "if len(user_char) == 1 and user_char.isalpha():\n",
    "    result = categorize_character(user_char)\n",
    "    print(f\"The character '{user_char}' is: {result}\")\n",
    "else:\n",
    "    print(\"Please enter a valid single character.\")"
   ]
  },
  {
   "cell_type": "code",
   "execution_count": 61,
   "id": "beab6a98",
   "metadata": {},
   "outputs": [
    {
     "name": "stdout",
     "output_type": "stream",
     "text": [
      "Enter a character: suppi\n",
      "Please enter a valid single character.\n"
     ]
    }
   ],
   "source": [
    "def categorize_character(char):\n",
    "    if char.isupper():\n",
    "        return \"Uppercase\"\n",
    "    elif char.islower():\n",
    "        return \"Lowercase\"\n",
    "    else:\n",
    "        return \"Neither uppercase nor lowercase\"\n",
    "user_char = input(\"Enter a character: \")\n",
    "\n",
    "if len(user_char) == 1 and user_char.isalpha():\n",
    "    result = categorize_character(user_char)\n",
    "    print(f\"The character '{user_char}' is: {result}\")\n",
    "else:\n",
    "    print(\"Please enter a valid single character.\")\n",
    "    "
   ]
  },
  {
   "cell_type": "code",
   "execution_count": 66,
   "id": "ae7d21d8",
   "metadata": {},
   "outputs": [
    {
     "name": "stdout",
     "output_type": "stream",
     "text": [
      "enter the string:SUPPI\n",
      "please enter a valid single character\n"
     ]
    }
   ],
   "source": [
    "def categorize_given_character(char):\n",
    "    if char.isupper():\n",
    "        return \"uppercase\"\n",
    "    elif char.islower():\n",
    "        return \"lowercase\"\n",
    "    else:\n",
    "        return \"neither uppercase or lowercase\"\n",
    "input_string=input(\"enter the string:\")\n",
    "if len(input_string)== 1 and input_string.isalpha():\n",
    "    result=categorize_given_character(input_string)\n",
    "    print(f\"the character {input_string} is: {result}\")\n",
    "else:\n",
    "       print(\"please enter a valid single character\")\n"
   ]
  },
  {
   "cell_type": "code",
   "execution_count": 67,
   "id": "d2ceb7bf",
   "metadata": {},
   "outputs": [
    {
     "name": "stdout",
     "output_type": "stream",
     "text": [
      "enter the string:Suppi\n",
      "please enter a valid single character\n"
     ]
    }
   ],
   "source": [
    "def categorize_given_character(char):\n",
    "    if char.isupper():\n",
    "        return \"uppercase\"\n",
    "    elif char.islower():\n",
    "        return \"lowercase\"\n",
    "    else:\n",
    "        return \"neither uppercase or lowercase\"\n",
    "input_string=input(\"enter the string:\")\n",
    "if len(input_string)== 1 and input_string.isalpha():\n",
    "    result=categorize_given_character(input_string)\n",
    "    print(f\"the character {input_string} is: {result}\")\n",
    "else:\n",
    "       print(\"please enter a valid single character\")\n"
   ]
  },
  {
   "cell_type": "code",
   "execution_count": 68,
   "id": "4b8ab0ce",
   "metadata": {},
   "outputs": [
    {
     "name": "stdout",
     "output_type": "stream",
     "text": [
      "Enter a character: supriya\n",
      "Please enter a valid single character.\n"
     ]
    }
   ],
   "source": [
    "def categorize_character(char):\n",
    "    if char.isupper():\n",
    "        return \"Uppercase\"\n",
    "    elif char.islower():\n",
    "        return \"Lowercase\"\n",
    "    else:\n",
    "        return \"Neither uppercase nor lowercase\"\n",
    "user_char = input(\"Enter a character: \")\n",
    "\n",
    "if len(user_char) == 1 and user_char.isalpha():\n",
    "    result = categorize_character(user_char)\n",
    "    print(f\"The character '{user_char}' is: {result}\")\n",
    "else:\n",
    "    print(\"Please enter a valid single character.\")\n"
   ]
  },
  {
   "cell_type": "code",
   "execution_count": 69,
   "id": "553d1d77",
   "metadata": {},
   "outputs": [
    {
     "name": "stdout",
     "output_type": "stream",
     "text": [
      "Enter a character: SUPRIYA\n",
      "Please enter a valid single character.\n"
     ]
    }
   ],
   "source": [
    "def categorize_character(char):\n",
    "    if char.isupper():\n",
    "        return \"Uppercase\"\n",
    "    elif char.islower():\n",
    "        return \"Lowercase\"\n",
    "    else:\n",
    "        return \"Neither uppercase nor lowercase\"\n",
    "user_char = input(\"Enter a character: \")\n",
    "\n",
    "if len(user_char) == 1 and user_char.isalpha():\n",
    "    result = categorize_character(user_char)\n",
    "    print(f\"The character '{user_char}' is: {result}\")\n",
    "else:\n",
    "    print(\"Please enter a valid single character.\")\n"
   ]
  },
  {
   "cell_type": "code",
   "execution_count": 70,
   "id": "a60be5f1",
   "metadata": {},
   "outputs": [
    {
     "name": "stdout",
     "output_type": "stream",
     "text": [
      "Enter a character: Suppi8\n",
      "Please enter a valid single character.\n"
     ]
    }
   ],
   "source": [
    "def categorize_character(char):\n",
    "    if char.isupper():\n",
    "        return \"Uppercase\"\n",
    "    elif char.islower():\n",
    "        return \"Lowercase\"\n",
    "    else:\n",
    "        return \"Neither uppercase nor lowercase\"\n",
    "user_char = input(\"Enter a character: \")\n",
    "\n",
    "if len(user_char) == 1 and user_char.isalpha():\n",
    "    result = categorize_character(user_char)\n",
    "    print(f\"The character '{user_char}' is: {result}\")\n",
    "else:\n",
    "    print(\"Please enter a valid single character.\")"
   ]
  },
  {
   "cell_type": "code",
   "execution_count": 71,
   "id": "a5870e98",
   "metadata": {},
   "outputs": [
    {
     "name": "stdout",
     "output_type": "stream",
     "text": [
      "Enter the coefficient a: 5\n",
      "Enter the coefficient b: 6\n",
      "Enter the coefficient c: 8\n",
      "The roots of the quadratic equation are: ('Complex roots', '-0.6 + 1.1135528725660042i', '-0.6 - 1.1135528725660042i')\n"
     ]
    }
   ],
   "source": [
    "#18. Write a Python program to determine the roots of a quadratic equation using if-else.\n",
    "import math\n",
    "def calculate_roots(a, b, c):\n",
    "    # Calculate the discriminant\n",
    "    discriminant = b**2 - 4*a*c\n",
    "    if discriminant > 0:\n",
    "        root1 = (-b + math.sqrt(discriminant)) / (2*a)\n",
    "        root2 = (-b - math.sqrt(discriminant)) / (2*a)\n",
    "        return \"Two distinct real roots\", root1, root2\n",
    "    elif discriminant == 0:\n",
    "        root = -b / (2*a)\n",
    "        return \"One real root (double root)\", root\n",
    "    else:\n",
    "        real_part = -b / (2*a)\n",
    "        imaginary_part = math.sqrt(abs(discriminant)) / (2*a)\n",
    "        return \"Complex roots\", f\"{real_part} + {imaginary_part}i\", f\"{real_part} - {imaginary_part}i\"\n",
    "a = float(input(\"Enter the coefficient a: \"))\n",
    "b = float(input(\"Enter the coefficient b: \"))\n",
    "c = float(input(\"Enter the coefficient c: \"))\n",
    "result = calculate_roots(a, b, c)\n",
    "print(f\"The roots of the quadratic equation are: {result}\")"
   ]
  },
  {
   "cell_type": "code",
   "execution_count": 72,
   "id": "46350068",
   "metadata": {},
   "outputs": [
    {
     "name": "stdout",
     "output_type": "stream",
     "text": [
      "enter a year:4\n",
      "4 is not a centuary year\n"
     ]
    }
   ],
   "source": [
    "#19. Create a Python program that checks if a given year is a century year or not using if-else.\n",
    "def is_centuary_year(year):\n",
    "    if year%100 == 0:\n",
    "        return True\n",
    "    else:\n",
    "        return False\n",
    "year=int(input(\"enter a year:\"))\n",
    "if is_centuary_year(year):\n",
    "    print(f\"{year} is a centuary year\")\n",
    "else:\n",
    "    print(f\"{year} is not a centuary year\")"
   ]
  },
  {
   "cell_type": "code",
   "execution_count": 73,
   "id": "4f1a5bd1",
   "metadata": {},
   "outputs": [
    {
     "name": "stdout",
     "output_type": "stream",
     "text": [
      "enter a year:400\n",
      "400 is a centuary year\n"
     ]
    }
   ],
   "source": [
    "def is_centuary_year(year):\n",
    "    if year%100 == 0:\n",
    "        return True\n",
    "    else:\n",
    "        return False\n",
    "year=int(input(\"enter a year:\"))\n",
    "if is_centuary_year(year):\n",
    "    print(f\"{year} is a centuary year\")\n",
    "else:\n",
    "    print(f\"{year} is not a centuary year\")"
   ]
  },
  {
   "cell_type": "code",
   "execution_count": 74,
   "id": "632f4d7d",
   "metadata": {},
   "outputs": [
    {
     "name": "stdout",
     "output_type": "stream",
     "text": [
      "enter a year:700\n",
      "700 is a centuary year\n"
     ]
    }
   ],
   "source": [
    "def is_centuary_year(year):\n",
    "    if year%100 == 0:\n",
    "        return True\n",
    "    else:\n",
    "        return False\n",
    "year=int(input(\"enter a year:\"))\n",
    "if is_centuary_year(year):\n",
    "    print(f\"{year} is a centuary year\")\n",
    "else:\n",
    "    print(f\"{year} is not a centuary year\")"
   ]
  },
  {
   "cell_type": "code",
   "execution_count": 83,
   "id": "15effac3",
   "metadata": {},
   "outputs": [
    {
     "name": "stdout",
     "output_type": "stream",
     "text": [
      "enter the number:4\n",
      "4 is a perfect square\n"
     ]
    }
   ],
   "source": [
    "#20. Write a Python program to determine if a given number is a perfect square using if-else.\n",
    "def is_perfect_square(number):\n",
    "    square_root =int(number**0.5)\n",
    "    if square_root**2 == number:\n",
    "        return True\n",
    "    else:\n",
    "        return False\n",
    "number=int(input(\"enter the number:\"))\n",
    "if is_perfect_square(number):\n",
    "    print(f\"{number} is a perfect square\")\n",
    "else:\n",
    "    print(f\"{number} is not a perfect square\")"
   ]
  },
  {
   "cell_type": "code",
   "execution_count": 84,
   "id": "6b6d02b0",
   "metadata": {},
   "outputs": [
    {
     "name": "stdout",
     "output_type": "stream",
     "text": [
      "enter the number:5\n",
      "5 is not a perfect square\n"
     ]
    }
   ],
   "source": [
    "def is_perfect_square(number):\n",
    "    square_root = int(number**0.5)\n",
    "    if square_root**2 == number:\n",
    "        return True\n",
    "    else:\n",
    "        return False\n",
    "number=int(input(\"enter the number:\"))\n",
    "if is_perfect_square(number):\n",
    "    print(f\"{number} is a perfect square\")\n",
    "else:\n",
    "    print(f\"{number} is not a perfect square\")"
   ]
  },
  {
   "cell_type": "code",
   "execution_count": 85,
   "id": "3f4926ff",
   "metadata": {},
   "outputs": [
    {
     "name": "stdout",
     "output_type": "stream",
     "text": [
      "enter the number:25\n",
      "25 is a perfect square\n"
     ]
    }
   ],
   "source": [
    "def is_perfect_square(number):\n",
    "    square_root =int(number**0.5)\n",
    "    if square_root**2 == number:\n",
    "        return True\n",
    "    else:\n",
    "        return False\n",
    "number=int(input(\"enter the number:\"))\n",
    "if is_perfect_square(number):\n",
    "    print(f\"{number} is a perfect square\")\n",
    "else:\n",
    "    print(f\"{number} is not a perfect square\")"
   ]
  },
  {
   "cell_type": "code",
   "execution_count": 86,
   "id": "99266f06",
   "metadata": {},
   "outputs": [
    {
     "name": "stdout",
     "output_type": "stream",
     "text": [
      "enter the number:6\n",
      "6 is not a perfect square\n"
     ]
    }
   ],
   "source": [
    "def is_perfect_square(number):\n",
    "    square_root =int(number**0.5)\n",
    "    if square_root**2 == number:\n",
    "        return True\n",
    "    else:\n",
    "        return False\n",
    "number=int(input(\"enter the number:\"))\n",
    "if is_perfect_square(number):\n",
    "    print(f\"{number} is a perfect square\")\n",
    "else:\n",
    "    print(f\"{number} is not a perfect square\")"
   ]
  },
  {
   "cell_type": "code",
   "execution_count": 87,
   "id": "1ad2f71d",
   "metadata": {},
   "outputs": [
    {
     "name": "stdout",
     "output_type": "stream",
     "text": [
      "enter the number:36\n",
      "36 is a perfect square\n"
     ]
    }
   ],
   "source": [
    "def is_perfect_square(number):\n",
    "    square_root =int(number**0.5)\n",
    "    if square_root**2 == number:\n",
    "        return True\n",
    "    else:\n",
    "        return False\n",
    "number=int(input(\"enter the number:\"))\n",
    "if is_perfect_square(number):\n",
    "    print(f\"{number} is a perfect square\")\n",
    "else:\n",
    "    print(f\"{number} is not a perfect square\")"
   ]
  },
  {
   "cell_type": "code",
   "execution_count": 88,
   "id": "6fa8859a",
   "metadata": {},
   "outputs": [
    {
     "name": "stdout",
     "output_type": "stream",
     "text": [
      "0\n",
      "1\n",
      "2\n",
      "3\n",
      "4\n",
      "5\n",
      "6\n",
      "7\n"
     ]
    }
   ],
   "source": [
    "#21. Explain the purpose of the \"continue\" and \"break\" statements within if-else loops.\n",
    "for i in range(10):\n",
    "    if i == 8:\n",
    "        break\n",
    "    print(i)\n",
    "        "
   ]
  },
  {
   "cell_type": "code",
   "execution_count": 91,
   "id": "1154e251",
   "metadata": {},
   "outputs": [
    {
     "name": "stdout",
     "output_type": "stream",
     "text": [
      "0\n",
      "1\n",
      "2\n",
      "3\n",
      "4\n",
      "5\n",
      "6\n",
      "7\n"
     ]
    }
   ],
   "source": [
    "for i in range(10):\n",
    "    if i >= 8:\n",
    "        continue\n",
    "    print(i)"
   ]
  },
  {
   "cell_type": "code",
   "execution_count": 92,
   "id": "8cfd1931",
   "metadata": {},
   "outputs": [
    {
     "name": "stdout",
     "output_type": "stream",
     "text": [
      "0\n",
      "1\n",
      "2\n",
      "3\n",
      "4\n",
      "5\n",
      "6\n",
      "7\n",
      "9\n"
     ]
    }
   ],
   "source": [
    "for i in range(10):\n",
    "    if i == 8:\n",
    "        continue\n",
    "    print(i)"
   ]
  },
  {
   "cell_type": "code",
   "execution_count": 93,
   "id": "0da47048",
   "metadata": {},
   "outputs": [
    {
     "name": "stdout",
     "output_type": "stream",
     "text": [
      "9\n"
     ]
    }
   ],
   "source": [
    "for i in range(10):\n",
    "    if i <= 8:\n",
    "        continue\n",
    "    print(i)"
   ]
  },
  {
   "cell_type": "code",
   "execution_count": 94,
   "id": "3733e8a4",
   "metadata": {},
   "outputs": [
    {
     "name": "stdout",
     "output_type": "stream",
     "text": [
      "Enter weight in kilograms: 42\n",
      "Enter height in meters: 500\n",
      "\n",
      "BMI: 0.00\n",
      "Category: Underweight\n"
     ]
    }
   ],
   "source": [
    "#22. Create a Python program that calculates the BMI (Body Mass Index) of a person based on their weight and height using if-else.\n",
    "def calculate_bmi(weight, height):\n",
    "    bmi = weight / (height ** 2)\n",
    "    return bmi\n",
    "def categorize_bmi(bmi):\n",
    "    if bmi < 18.5:\n",
    "        return \"Underweight\"\n",
    "    elif 18.5 <= bmi < 24.9:\n",
    "        return \"Normal weight\"\n",
    "    elif 25.0 <= bmi < 29.9:\n",
    "        return \"Overweight\"\n",
    "    else:\n",
    "        return \"Obese\"\n",
    "weight = float(input(\"Enter weight in kilograms: \"))\n",
    "height = float(input(\"Enter height in meters: \"))\n",
    "bmi_result = calculate_bmi(weight, height)\n",
    "category = categorize_bmi(bmi_result)\n",
    "print(f\"\\nBMI: {bmi_result:.2f}\")\n",
    "print(f\"Category: {category}\")"
   ]
  },
  {
   "cell_type": "code",
   "execution_count": 95,
   "id": "df2cfd31",
   "metadata": {},
   "outputs": [
    {
     "name": "stdout",
     "output_type": "stream",
     "text": [
      "Enter weight in kilograms: 45\n",
      "Enter height in meters: 1000\n",
      "\n",
      "BMI: 0.00\n",
      "Category: Underweight\n"
     ]
    }
   ],
   "source": [
    "def calculate_bmi(weight, height):\n",
    "    bmi = weight / (height ** 2)\n",
    "    return bmi\n",
    "def categorize_bmi(bmi):\n",
    "    if bmi < 18.5:\n",
    "        return \"Underweight\"\n",
    "    elif 18.5 <= bmi < 24.9:\n",
    "        return \"Normal weight\"\n",
    "    elif 25.0 <= bmi < 29.9:\n",
    "        return \"Overweight\"\n",
    "    else:\n",
    "        return \"Obese\"\n",
    "weight = float(input(\"Enter weight in kilograms: \"))\n",
    "height = float(input(\"Enter height in meters: \"))\n",
    "bmi_result = calculate_bmi(weight, height)\n",
    "category = categorize_bmi(bmi_result)\n",
    "print(f\"\\nBMI: {bmi_result:.2f}\")\n",
    "print(f\"Category: {category}\")"
   ]
  },
  {
   "cell_type": "code",
   "execution_count": 96,
   "id": "06a169de",
   "metadata": {},
   "outputs": [
    {
     "name": "stdout",
     "output_type": "stream",
     "text": [
      "Enter weight in kilograms: 54\n",
      "Enter height in meters: 56.9\n",
      "\n",
      "BMI: 0.02\n",
      "Category: Underweight\n"
     ]
    }
   ],
   "source": [
    "def calculate_bmi(weight, height):\n",
    "    bmi = weight / (height ** 2)\n",
    "    return bmi\n",
    "def categorize_bmi(bmi):\n",
    "    if bmi < 18.5:\n",
    "        return \"Underweight\"\n",
    "    elif 18.5 <= bmi < 24.9:\n",
    "        return \"Normal weight\"\n",
    "    elif 25.0 <= bmi < 29.9:\n",
    "        return \"Overweight\"\n",
    "    else:\n",
    "        return \"Obese\"\n",
    "weight = float(input(\"Enter weight in kilograms: \"))\n",
    "height = float(input(\"Enter height in meters: \"))\n",
    "bmi_result = calculate_bmi(weight, height)\n",
    "category = categorize_bmi(bmi_result)\n",
    "print(f\"\\nBMI: {bmi_result:.2f}\")\n",
    "print(f\"Category: {category}\")"
   ]
  },
  {
   "cell_type": "code",
   "execution_count": 98,
   "id": "ccf1c99a",
   "metadata": {},
   "outputs": [
    {
     "name": "stdout",
     "output_type": "stream",
     "text": [
      "original numbers: [1, 2, 3, 4, 5, 6, 7, 8, 9, 10, 11, 12]\n",
      "the final result is : [2, 4, 6, 8, 10, 12]\n"
     ]
    }
   ],
   "source": [
    "#23. How can you use the \"filter()\" function with if-else statements to filter elements from a list?\n",
    "def is_even(number):\n",
    "    return number%2 == 0\n",
    "numbers=[1,2,3,4,5,6,7,8,9,10,11,12]\n",
    "filtered_numbers=filter(is_even,numbers)\n",
    "result_list=list(filtered_numbers)\n",
    "print(f\"original numbers:\",numbers)\n",
    "print(f\"the final result is :\",result_list)"
   ]
  },
  {
   "cell_type": "code",
   "execution_count": 99,
   "id": "03443dd6",
   "metadata": {},
   "outputs": [
    {
     "name": "stdout",
     "output_type": "stream",
     "text": [
      "Enter a number: 5\n",
      "5 is a prime number.\n"
     ]
    }
   ],
   "source": [
    "#24. Write a Python program to determine if a given number is prime or not using if-else.\n",
    "def is_prime(number):\n",
    "    if number < 2:\n",
    "        return False\n",
    "    for i in range(2, int(number**0.5) + 1):\n",
    "        if number % i == 0:\n",
    "            return False\n",
    "    return True\n",
    "user_number = int(input(\"Enter a number: \"))\n",
    "if is_prime(user_number):\n",
    "    print(f\"{user_number} is a prime number.\")\n",
    "else:\n",
    "    print(f\"{user_number} is not a prime number.\")\n"
   ]
  },
  {
   "cell_type": "code",
   "execution_count": 100,
   "id": "8659a603",
   "metadata": {},
   "outputs": [
    {
     "name": "stdout",
     "output_type": "stream",
     "text": [
      "Enter a number: 8\n",
      "8 is not a prime number.\n"
     ]
    }
   ],
   "source": [
    "def is_prime(number):\n",
    "    if number < 2:\n",
    "        return False\n",
    "    for i in range(2, int(number**0.5) + 1):\n",
    "        if number % i == 0:\n",
    "            return False\n",
    "    return True\n",
    "user_number = int(input(\"Enter a number: \"))\n",
    "if is_prime(user_number):\n",
    "    print(f\"{user_number} is a prime number.\")\n",
    "else:\n",
    "    print(f\"{user_number} is not a prime number.\")"
   ]
  },
  {
   "cell_type": "code",
   "execution_count": 101,
   "id": "3f300a94",
   "metadata": {},
   "outputs": [
    {
     "name": "stdout",
     "output_type": "stream",
     "text": [
      "Enter a number: 3\n",
      "3 is a prime number.\n"
     ]
    }
   ],
   "source": [
    "def is_prime(number):\n",
    "    if number < 2:\n",
    "        return False\n",
    "    for i in range(2, int(number**0.5) + 1):\n",
    "        if number % i == 0:\n",
    "            return False\n",
    "    return True\n",
    "user_number = int(input(\"Enter a number: \"))\n",
    "if is_prime(user_number):\n",
    "    print(f\"{user_number} is a prime number.\")\n",
    "else:\n",
    "    print(f\"{user_number} is not a prime number.\")"
   ]
  },
  {
   "cell_type": "markdown",
   "id": "1d0fed1c",
   "metadata": {},
   "source": [
    "# MAP"
   ]
  },
  {
   "cell_type": "code",
   "execution_count": 102,
   "id": "ae55e83a",
   "metadata": {},
   "outputs": [
    {
     "name": "stdout",
     "output_type": "stream",
     "text": [
      "original list: [1, 2, 3, 4, 5]\n",
      "result_list: [1, 4, 9, 16, 25]\n"
     ]
    }
   ],
   "source": [
    "#1. Explain the purpose of the `map()` function in Python and provide an example of how it can be used to apply a function to each element of an iterable.\n",
    "def square(x):\n",
    "    return x**2\n",
    "numbers=[1,2,3,4,5]\n",
    "squared_numbers=map(square,numbers)\n",
    "result_list=list(squared_numbers)\n",
    "print(f\"original list:\",numbers)\n",
    "print(f\"result_list:\",result_list)"
   ]
  },
  {
   "cell_type": "code",
   "execution_count": 103,
   "id": "2094d73f",
   "metadata": {},
   "outputs": [
    {
     "name": "stdout",
     "output_type": "stream",
     "text": [
      "original list: [5, 6, 7, 8, 9]\n",
      "result_list: [25, 36, 49, 64, 81]\n"
     ]
    }
   ],
   "source": [
    "#2. Write a Python program that uses the `map()` function to square each element of a list of numbers.\n",
    "def square(y):\n",
    "    return y**2\n",
    "number=[5,6,7,8,9]\n",
    "squared_numbers=map(square,number)\n",
    "result_list=list(squared_numbers)\n",
    "print(f\"original list:\",number)\n",
    "print(f\"result_list:\",result_list)"
   ]
  },
  {
   "cell_type": "code",
   "execution_count": 104,
   "id": "c3e404ce",
   "metadata": {},
   "outputs": [
    {
     "name": "stdout",
     "output_type": "stream",
     "text": [
      "[9, 16, 25, 36, 49, 64]\n"
     ]
    }
   ],
   "source": [
    "#3. How does the `map()` function differ from a list comprehension in Python, and when would you choose one over the other?\n",
    "numbers=[3,4,5,6,7,8]\n",
    "resulted_list=[x**2 for x in numbers]\n",
    "print(resulted_list)"
   ]
  },
  {
   "cell_type": "code",
   "execution_count": 2,
   "id": "62885ecd",
   "metadata": {},
   "outputs": [
    {
     "name": "stdout",
     "output_type": "stream",
     "text": [
      "original_names: ['apple', 'banana', 'orange', 'dragon']\n",
      "resulted_list: ['APPLE', 'BANANA', 'ORANGE', 'DRAGON']\n"
     ]
    }
   ],
   "source": [
    "#4. Create a Python program that uses the `map()` function to convert a list of names to uppercase.\n",
    "def convert_to_uppercase(name):\n",
    "    return name.upper()\n",
    "names=[\"apple\",\"banana\",\"orange\",\"dragon\"]\n",
    "uppercase_names=map(convert_to_uppercase,names)\n",
    "resulted_list=list(uppercase_names)\n",
    "print(\"original_names:\",names)\n",
    "print(\"resulted_list:\",resulted_list)"
   ]
  },
  {
   "cell_type": "code",
   "execution_count": 4,
   "id": "37e77fa7",
   "metadata": {},
   "outputs": [
    {
     "name": "stdout",
     "output_type": "stream",
     "text": [
      "original_names: ['aparna', 'king', 'noshmitha', 'sharvina']\n",
      "resulted_list: ['APARNA', 'KING', 'NOSHMITHA', 'SHARVINA']\n"
     ]
    }
   ],
   "source": [
    "def convert_to_uppercase(name):\n",
    "    return name.upper()\n",
    "name=[\"aparna\",\"king\",\"noshmitha\",\"sharvina\"]\n",
    "uppercase_name=map(convert_to_uppercase,name)\n",
    "resulted_list=list(uppercase_name)\n",
    "print(\"original_names:\",name)\n",
    "print(\"resulted_list:\",resulted_list)"
   ]
  },
  {
   "cell_type": "code",
   "execution_count": 5,
   "id": "9d9bb531",
   "metadata": {},
   "outputs": [
    {
     "name": "stdout",
     "output_type": "stream",
     "text": [
      "original list: ['sharvin', 'noshmitha', 'vikisha', 'supriya']\n",
      "resulted list: [7, 9, 7, 7]\n"
     ]
    }
   ],
   "source": [
    "#5. Write a Python program that uses the `map()` function to calculate the length of each word in a list of strings.\n",
    "string_list=[\"sharvin\",\"noshmitha\",\"vikisha\",\"supriya\"]\n",
    "word_length=map(len,string_list)\n",
    "resulted_list=list(word_length)\n",
    "print(f\"original list:\",string_list)\n",
    "print(f\"resulted list:\",resulted_list)"
   ]
  },
  {
   "cell_type": "code",
   "execution_count": 6,
   "id": "f9f457a7",
   "metadata": {},
   "outputs": [
    {
     "name": "stdout",
     "output_type": "stream",
     "text": [
      "Original list of words: ['apple', 'banana', 'cherry', 'date']\n",
      "Length of each word: [5, 6, 6, 4]\n"
     ]
    }
   ],
   "source": [
    "word_list = [\"apple\", \"banana\", \"cherry\", \"date\"]\n",
    "word_lengths = map(len, word_list)\n",
    "result_list = list(word_lengths)\n",
    "print(\"Original list of words:\", word_list)\n",
    "print(\"Length of each word:\", result_list)\n"
   ]
  },
  {
   "cell_type": "code",
   "execution_count": 7,
   "id": "421b59a8",
   "metadata": {},
   "outputs": [
    {
     "name": "stdout",
     "output_type": "stream",
     "text": [
      "list 1: [2, 2, 3, 4]\n",
      "list 2: [5, 6, 7, 8]\n",
      "result list: [7, 8, 10, 12]\n"
     ]
    }
   ],
   "source": [
    "#6. How can you use the `map()` function to apply a custom function to elements of multiple lists simultaneously in Python?\n",
    "def add_elements(x,y):\n",
    "    return x+y\n",
    "list1=[2,2,3,4]\n",
    "list2=[5,6,7,8]\n",
    "result=map(lambda x,y: x+y,list1,list2)\n",
    "result_list=list(result)\n",
    "print(\"list 1:\",list1)\n",
    "print(\"list 2:\",list2)\n",
    "print(\"result list:\",result_list)\n"
   ]
  },
  {
   "cell_type": "code",
   "execution_count": 8,
   "id": "0103587a",
   "metadata": {},
   "outputs": [
    {
     "name": "stdout",
     "output_type": "stream",
     "text": [
      "[70.7, 130.28, 172.76000000000002, 93.2, 33.8]\n"
     ]
    }
   ],
   "source": [
    "#7. Create a Python program that uses `map()` to convert a list of temperatures from Celsius to Fahrenheit.\n",
    "def celsius_to_fahrenheit(celsius):\n",
    "    return celsius *9/5 + 32\n",
    "temperatures=[21.5,54.6,78.2,34,1]\n",
    "fahrenheit_temperature=map(celsius_to_fahrenheit,temperatures)\n",
    "print(list(fahrenheit_temperature))\n",
    "    "
   ]
  },
  {
   "cell_type": "code",
   "execution_count": 9,
   "id": "768e9d59",
   "metadata": {},
   "outputs": [
    {
     "name": "stdout",
     "output_type": "stream",
     "text": [
      "[70.7, 75.2, 79.88, 82.4, 86.72]\n"
     ]
    }
   ],
   "source": [
    "def celsius_to_fahrenheit(celsius):\n",
    "    return celsius * 9/5 + 32\n",
    "\n",
    "temperatures = [21.5, 24, 26.6, 28, 30.4]\n",
    "\n",
    "fahrenheit_temperatures = map(celsius_to_fahrenheit, temperatures)\n",
    "\n",
    "print(list(fahrenheit_temperatures))"
   ]
  },
  {
   "cell_type": "code",
   "execution_count": 10,
   "id": "2c9abcf3",
   "metadata": {},
   "outputs": [
    {
     "name": "stdout",
     "output_type": "stream",
     "text": [
      "Temperatures in Celsius: [0, 10, 20, 30, 40]\n",
      "Temperatures in Fahrenheit: [32.0, 50.0, 68.0, 86.0, 104.0]\n"
     ]
    }
   ],
   "source": [
    "def celsius_to_fahrenheit(celsius):\n",
    "    return (celsius * 9/5) + 32\n",
    "temperatures_celsius = [0, 10, 20, 30, 40]\n",
    "temperatures_fahrenheit = map(celsius_to_fahrenheit, temperatures_celsius)\n",
    "result_list=list(temperatures_fahrenheit)\n",
    "print(\"Temperatures in Celsius:\", temperatures_celsius)\n",
    "print(\"Temperatures in Fahrenheit:\", result_list)"
   ]
  },
  {
   "cell_type": "code",
   "execution_count": 11,
   "id": "c5bfbb91",
   "metadata": {},
   "outputs": [
    {
     "name": "stdout",
     "output_type": "stream",
     "text": [
      "[3, 3, 1, 1]\n"
     ]
    }
   ],
   "source": [
    "#8. Write a Python program that uses the `map()` function to round each element of a list of floating-point numbers to the nearest integer.\n",
    "def round_to_nearest_integer(number):\n",
    "    return round(number)\n",
    "numbers = [3.14159, 2.71828, 1.41421, 0.61803]\n",
    "rounded_numbers = map(round_to_nearest_integer, numbers)\n",
    "print(list(rounded_numbers))"
   ]
  },
  {
   "cell_type": "markdown",
   "id": "c5627b98",
   "metadata": {},
   "source": [
    "# reduce"
   ]
  },
  {
   "cell_type": "code",
   "execution_count": 139,
   "id": "58dc77ca",
   "metadata": {},
   "outputs": [
    {
     "name": "stdout",
     "output_type": "stream",
     "text": [
      "15\n"
     ]
    }
   ],
   "source": [
    "#1. What is the `reduce()` function in Python, and what module should you import to use it? Provide an example of its basic usage.\n",
    "from functools import reduce\n",
    "numbers = [1, 2, 3, 4, 5]\n",
    "sum_of_numbers = reduce(lambda x, y: x + y, numbers)\n",
    "print(sum_of_numbers) "
   ]
  },
  {
   "cell_type": "code",
   "execution_count": 142,
   "id": "2940f683",
   "metadata": {},
   "outputs": [
    {
     "name": "stdout",
     "output_type": "stream",
     "text": [
      "20160\n"
     ]
    }
   ],
   "source": [
    "#2. Write a Python program that uses the `reduce()` function to find the product of all elements in a list.\n",
    "from functools import reduce\n",
    "numbers=[3,4,5,6,7,8]\n",
    "product_of_numbers=reduce(lambda x,y:x*y, numbers)\n",
    "print(product_of_numbers)\n"
   ]
  },
  {
   "cell_type": "code",
   "execution_count": 145,
   "id": "5a81d394",
   "metadata": {},
   "outputs": [
    {
     "name": "stdout",
     "output_type": "stream",
     "text": [
      "678\n"
     ]
    }
   ],
   "source": [
    "#3. Create a Python program that uses `reduce()` to find the maximum element in a list of numbers.\n",
    "from functools import reduce\n",
    "numbers=[45,78,76,89,90,453,678]\n",
    "max_number=reduce(lambda x, y:max(x,y),numbers)\n",
    "print(max_number)"
   ]
  },
  {
   "cell_type": "code",
   "execution_count": 148,
   "id": "b0bd15e4",
   "metadata": {},
   "outputs": [
    {
     "name": "stdout",
     "output_type": "stream",
     "text": [
      "my name is supriya reddy\n"
     ]
    }
   ],
   "source": [
    "#4. How can you use the `reduce()` function to concatenate a list of strings into a single string?\n",
    "from functools import reduce\n",
    "input_string=[\"my\",\"name\",\"is\",\"supriya\",\"reddy\"]\n",
    "concatenation_string=reduce(lambda x,y:(x+\" \"+y),input_string)\n",
    "print(concatenation_string)"
   ]
  },
  {
   "cell_type": "code",
   "execution_count": 151,
   "id": "efed71f1",
   "metadata": {},
   "outputs": [
    {
     "name": "stdout",
     "output_type": "stream",
     "text": [
      "enter a number:5\n",
      "120\n"
     ]
    }
   ],
   "source": [
    "#5. Write a Python program that calculates the factorial of a number using the `reduce()` function.\n",
    "from functools import reduce\n",
    "def factorial(n):\n",
    "    if n == 0:\n",
    "        return 1\n",
    "    else:\n",
    "        return reduce(lambda x,y:x * y ,range(1,n+1))\n",
    "number=int(input(\"enter a number:\"))\n",
    "factorial_number=factorial(number)\n",
    "print(factorial_number)"
   ]
  },
  {
   "cell_type": "code",
   "execution_count": 152,
   "id": "de3bbd16",
   "metadata": {},
   "outputs": [
    {
     "name": "stdout",
     "output_type": "stream",
     "text": [
      "23\n"
     ]
    }
   ],
   "source": [
    "#6. Create a Python program that uses `reduce()` to find the GCD (Greatest Common Divisor) of a list of numbers.\n",
    "from functools import reduce\n",
    "def gcd(a,b):\n",
    "    while b!=0:\n",
    "        a,b=b,a%b\n",
    "        return a\n",
    "def gcd_of_list(numbers):\n",
    "    return reduce(gcd,numbers)\n",
    "numbers=[3,5,6,54,34,23]\n",
    "gcd_of_numbers=gcd_of_list(numbers)\n",
    "print(gcd_of_numbers)"
   ]
  },
  {
   "cell_type": "code",
   "execution_count": 156,
   "id": "c412bb53",
   "metadata": {},
   "outputs": [
    {
     "name": "stdout",
     "output_type": "stream",
     "text": [
      "15\n"
     ]
    }
   ],
   "source": [
    "#7. Write a Python program that uses the `reduce()` function to find the sum of the digits of a given number.\n",
    "from functools import reduce\n",
    "def sum_of_digits(number):\n",
    "    digits=[int(d) for d in str(number)]\n",
    "    return reduce(lambda x, y: x+y,digits)\n",
    "number=12345\n",
    "result=sum_of_digits(number)\n",
    "print(result)"
   ]
  },
  {
   "cell_type": "markdown",
   "id": "1f75f239",
   "metadata": {},
   "source": [
    "# filter()"
   ]
  },
  {
   "cell_type": "code",
   "execution_count": 12,
   "id": "17082177",
   "metadata": {},
   "outputs": [
    {
     "name": "stdout",
     "output_type": "stream",
     "text": [
      "original list: [1, 2, 3, 4, 5, 6, 7, 8, 9]\n",
      "final result : [1, 3, 5, 7, 9]\n"
     ]
    }
   ],
   "source": [
    "#1. Explain the purpose of the `filter()` function in Python and provide an example of how it can be used to filter elements from an iterable.\n",
    "numbers=[1,2,3,4,5,6,7,8,9]\n",
    "result = list(filter(lambda x: x % 2 != 0, numbers))\n",
    "print(\"original list:\",numbers)\n",
    "print(\"final result :\",result)"
   ]
  },
  {
   "cell_type": "code",
   "execution_count": 14,
   "id": "85b959e7",
   "metadata": {},
   "outputs": [
    {
     "name": "stdout",
     "output_type": "stream",
     "text": [
      "[2, 4, 6]\n"
     ]
    }
   ],
   "source": [
    "#2. Write a Python program that uses the `filter()` function to select even numbers from a list of integers.\n",
    "def is_even(number):\n",
    "    return number % 2 == 0\n",
    "numbers = [1, 2, 3, 4, 5, 6]\n",
    "even_numbers = filter(is_even, numbers)\n",
    "print(list(even_numbers))"
   ]
  },
  {
   "cell_type": "code",
   "execution_count": 16,
   "id": "239ece35",
   "metadata": {},
   "outputs": [
    {
     "name": "stdout",
     "output_type": "stream",
     "text": [
      "['suppi', 'sharvin']\n"
     ]
    }
   ],
   "source": [
    "#3. Create a Python program that uses the `filter()` function to select names that start with a specific letter from a list of strings.\n",
    "names=[\"suppi\",\"prassanna\",\"vikisha\",\"sharvin\",\"noshmitha\",\"krishna\",\"nagasubba\"]\n",
    "starting_letter=\"s\"\n",
    "result=list(filter(lambda name:name.startswith (starting_letter),names))\n",
    "print(result)"
   ]
  },
  {
   "cell_type": "code",
   "execution_count": 27,
   "id": "c865dfe5",
   "metadata": {},
   "outputs": [
    {
     "name": "stdout",
     "output_type": "stream",
     "text": [
      "primes_number:[2, 3, 5, 7]\n"
     ]
    }
   ],
   "source": [
    "#4. Write a Python program that uses the `filter()` function to select prime numbers from a list of integers.\n",
    "def is_prime(n):\n",
    "    if n <= 1:\n",
    "        return False\n",
    "    for i in range(2,int(n**0.5)+1):\n",
    "        if n % i == 0:\n",
    "            return False\n",
    "    return True\n",
    "my_list=[1,2,3,4,5,6,7,8,9,10]\n",
    "prime_number=list(filter(is_prime,my_list))\n",
    "print(f\"primes_number:{prime_number}\")"
   ]
  },
  {
   "cell_type": "code",
   "execution_count": 30,
   "id": "cf8f9fb7",
   "metadata": {},
   "outputs": [
    {
     "name": "stdout",
     "output_type": "stream",
     "text": [
      " data without none filter values:[1, 2, 3, 4, 5, 6, 7, 8, 9]\n"
     ]
    }
   ],
   "source": [
    "#5. How can you use the `filter()` function to remove None values from a list in Python?\n",
    "data=[1,2,None,3,4,None,5,6,None,7,None,8,9,None]\n",
    "filter_values=list(filter(lambda x : x is not None, data))\n",
    "print(f\" data without none filter values:{filter_values}\")"
   ]
  },
  {
   "cell_type": "code",
   "execution_count": 31,
   "id": "9320b8a5",
   "metadata": {},
   "outputs": [
    {
     "name": "stdout",
     "output_type": "stream",
     "text": [
      " data without none filter values:[1, 2, 4, 5, 6, 7, 9]\n"
     ]
    }
   ],
   "source": [
    "data=[1,2,None,4,None,5,6,None,7,None,9,None]\n",
    "filter_values=list(filter(lambda x : x is not None, data))\n",
    "print(f\" data without none filter values:{filter_values}\")"
   ]
  },
  {
   "cell_type": "code",
   "execution_count": 39,
   "id": "183fb025",
   "metadata": {},
   "outputs": [
    {
     "name": "stdout",
     "output_type": "stream",
     "text": [
      "logest length of the word is ['noshmitha', 'yarrannagari', 'krishnakumari', 'lakshmiprasanna', 'nagasubbareddy', 'supriyareddy']\n"
     ]
    }
   ],
   "source": [
    "#6. Create a Python program that uses `filter()` to select words longer than a certain length from a list of strings.\n",
    "string=[\"supriya\",\"noshmitha\",\"yarrannagari\",\"krishnakumari\",\"lakshmiprasanna\",\"nagasubbareddy\",\"supriyareddy\"]\n",
    "min_length=8\n",
    "longer_word=list(filter(lambda word:len(word)> min_length,string))\n",
    "print(f\"logest length of the word is {longer_word}\")\n"
   ]
  },
  {
   "cell_type": "code",
   "execution_count": 40,
   "id": "26081456",
   "metadata": {},
   "outputs": [
    {
     "name": "stdout",
     "output_type": "stream",
     "text": [
      "the elements greater than a specified threshold is:[30, 35, 40, 45, 50]\n"
     ]
    }
   ],
   "source": [
    "#7. Write a Python program that uses the `filter()` function to select elements greater than a specified threshold from a list of values.\n",
    "values=[5,10,15,20,25,30,35,40,45,50]\n",
    "threshold=25\n",
    "filtered_list=list(filter(lambda value:value > threshold,values))\n",
    "print(f\"the elements greater than a specified threshold is:{filtered_list}\")"
   ]
  },
  {
   "cell_type": "markdown",
   "id": "9cf2ffd8",
   "metadata": {},
   "source": [
    "# Recursion"
   ]
  },
  {
   "cell_type": "code",
   "execution_count": null,
   "id": "053269a7",
   "metadata": {},
   "outputs": [],
   "source": [
    "#1. Explain the concept of recursion in Python. How does it differ from iteration?\n",
    "Recursion is a programming technique where a function calls itself. This means that the function's \n",
    "definition includes a reference to itself, either directly or indirectly.It can be more challenges."
   ]
  },
  {
   "cell_type": "code",
   "execution_count": 42,
   "id": "1c49d1b3",
   "metadata": {},
   "outputs": [
    {
     "name": "stdout",
     "output_type": "stream",
     "text": [
      "factorial is: 120\n"
     ]
    }
   ],
   "source": [
    "#2. Write a Python program to calculate the factorial of a number using recursion.\n",
    "def factorial(n):\n",
    "    if n == 0:\n",
    "        return 1\n",
    "    else:\n",
    "        return n*factorial(n-1)\n",
    "result=factorial(5)\n",
    "print(f\"factorial is: {result}\")"
   ]
  },
  {
   "cell_type": "code",
   "execution_count": 44,
   "id": "5bc60a2d",
   "metadata": {},
   "outputs": [
    {
     "name": "stdout",
     "output_type": "stream",
     "text": [
      "fibonacci series is: 55\n"
     ]
    }
   ],
   "source": [
    "#3. Create a recursive Python function to find the nth Fibonacci number.\n",
    "def fibonacci(n):\n",
    "    if n <= 1:\n",
    "        return n\n",
    "    else:\n",
    "        return fibonacci(n-1)+fibonacci(n-2)\n",
    "result=fibonacci(10)\n",
    "print(f\"fibonacci series is: {result}\")\n",
    "        \n",
    "        "
   ]
  },
  {
   "cell_type": "code",
   "execution_count": 49,
   "id": "faf1ee63",
   "metadata": {},
   "outputs": [
    {
     "name": "stdout",
     "output_type": "stream",
     "text": [
      "the sum of the data is: 55\n"
     ]
    }
   ],
   "source": [
    "#4. Write a recursive Python function to calculate the sum of all elements in a list.\n",
    "def sum_list(data):\n",
    "    if len(data) == 1:\n",
    "        return data[0]\n",
    "    else:\n",
    "        return data[0] + sum_list(data[1:])\n",
    "number=[1,2,3,4,5,6,7,8,9,10]\n",
    "total_sum=sum(number)\n",
    "print(f\"the sum of the data is: {total_sum}\")"
   ]
  },
  {
   "cell_type": "code",
   "execution_count": 56,
   "id": "459a4e13",
   "metadata": {},
   "outputs": [
    {
     "name": "stdout",
     "output_type": "stream",
     "text": [
      "sum of digits is: 15\n"
     ]
    }
   ],
   "source": [
    "#5. How can you prevent a recursive function from running indefinitely, causing a stack overflow error?\n",
    "#Ensure that the recursive function has a well-defined base case that will be reached, causing the recursion to stop.\n",
    "def sum_data(data):\n",
    "    if len(data) == 1:\n",
    "        return data[0]\n",
    "    else:\n",
    "        return data[0]+sum_list(data[1:])\n",
    "data=[1,2,3,4,5]\n",
    "result=sum_data(data)\n",
    "print(f\"sum of digits is: {result}\")"
   ]
  },
  {
   "cell_type": "code",
   "execution_count": 58,
   "id": "973436d4",
   "metadata": {},
   "outputs": [
    {
     "name": "stdout",
     "output_type": "stream",
     "text": [
      "the gcd of 18 and 24 is: 6\n"
     ]
    }
   ],
   "source": [
    "#6. Create a recursive Python function to find the greatest common divisor (GCD) of two numbers using the Euclidean algorithm.\n",
    "def gcd(a,b):\n",
    "    if b == 0:\n",
    "        return a\n",
    "    else:\n",
    "        return gcd(b,a % b)\n",
    "result=gcd(18,24)\n",
    "print(f\"the gcd of 18 and 24 is: {result}\")"
   ]
  },
  {
   "cell_type": "code",
   "execution_count": 60,
   "id": "fc08c077",
   "metadata": {},
   "outputs": [
    {
     "name": "stdout",
     "output_type": "stream",
     "text": [
      "enter a string:supriya\n",
      "the reversed string is: ayirpus\n"
     ]
    }
   ],
   "source": [
    "#7. Write a recursive Python function to reverse a string.\n",
    "string=input(\"enter a string:\")\n",
    "reversed_string=string[::-1]\n",
    "print(f\"the reversed string is: {reversed_string}\")"
   ]
  },
  {
   "cell_type": "code",
   "execution_count": 70,
   "id": "3c6698d6",
   "metadata": {},
   "outputs": [
    {
     "name": "stdout",
     "output_type": "stream",
     "text": [
      "3^4 is 81\n"
     ]
    }
   ],
   "source": [
    "#8. Create a recursive Python function to calculate the power of a number (x^n).\n",
    "def power(num,n):\n",
    "    if n == 0:\n",
    "        return 1\n",
    "    else:\n",
    "        return num * power(num,n-1)\n",
    "result=power(3,4)\n",
    "print(f\"3^4 is {result}\")"
   ]
  },
  {
   "cell_type": "code",
   "execution_count": 71,
   "id": "0c31cf34",
   "metadata": {},
   "outputs": [
    {
     "data": {
      "text/plain": [
       "81"
      ]
     },
     "execution_count": 71,
     "metadata": {},
     "output_type": "execute_result"
    }
   ],
   "source": [
    "3**4"
   ]
  },
  {
   "cell_type": "code",
   "execution_count": 73,
   "id": "e9f2152d",
   "metadata": {},
   "outputs": [
    {
     "name": "stdout",
     "output_type": "stream",
     "text": [
      "enter a number:4\n",
      "enter a number:5\n",
      "1024\n"
     ]
    }
   ],
   "source": [
    "num1=int(input(\"enter a number:\"))\n",
    "num2=int(input(\"enter a number:\"))\n",
    "result=num1**num2\n",
    "print(result)\n"
   ]
  },
  {
   "cell_type": "code",
   "execution_count": 74,
   "id": "3e9b2a16",
   "metadata": {},
   "outputs": [
    {
     "data": {
      "text/plain": [
       "1024"
      ]
     },
     "execution_count": 74,
     "metadata": {},
     "output_type": "execute_result"
    }
   ],
   "source": [
    "4**5"
   ]
  },
  {
   "cell_type": "code",
   "execution_count": 75,
   "id": "d3107cf4",
   "metadata": {},
   "outputs": [
    {
     "name": "stdout",
     "output_type": "stream",
     "text": [
      "Permutations of 'abc': ['abc', 'acb', 'bac', 'bca', 'cab', 'cba']\n"
     ]
    }
   ],
   "source": [
    "#9. Write a recursive Python function to find all permutations of a given string.\n",
    "def permutations(string):\n",
    "    if len(string) == 1:\n",
    "        return [string]\n",
    "    else:\n",
    "        perms = []\n",
    "    for i in range(len(string)):\n",
    "        first_char = string[i]\n",
    "        remaining_chars = string[:i] + string[i+1:]\n",
    "        for perm in permutations(remaining_chars):\n",
    "            perms.append(first_char + perm)\n",
    "    return perms\n",
    "result = permutations(\"abc\")\n",
    "print(f\"Permutations of 'abc': {result}\")"
   ]
  },
  {
   "cell_type": "code",
   "execution_count": 77,
   "id": "82026cc5",
   "metadata": {},
   "outputs": [
    {
     "name": "stdout",
     "output_type": "stream",
     "text": [
      "enter the string:supriya\n",
      "the string is not a palindrome\n"
     ]
    }
   ],
   "source": [
    "#10. Write a recursive Python function to check if a string is a palindrome.\n",
    "string=input(\"enter the string:\")\n",
    "if string == string[::-1]:\n",
    "    print(\"the string is a palindrome\")\n",
    "else:\n",
    "    print(\"the string is not a palindrome\")"
   ]
  },
  {
   "cell_type": "code",
   "execution_count": 78,
   "id": "6efbfde3",
   "metadata": {},
   "outputs": [
    {
     "name": "stdout",
     "output_type": "stream",
     "text": [
      "enter the string:madam\n",
      "the string is a palindrome\n"
     ]
    }
   ],
   "source": [
    "string=input(\"enter the string:\")\n",
    "if string == string[::-1]:\n",
    "    print(\"the string is a palindrome\")\n",
    "else:\n",
    "    print(\"the string is not a palindrome\")"
   ]
  },
  {
   "cell_type": "code",
   "execution_count": 79,
   "id": "0d633fe9",
   "metadata": {},
   "outputs": [
    {
     "name": "stdout",
     "output_type": "stream",
     "text": [
      "Combinations of 2 elements from [1, 2, 3, 4]: [[1, 2], [1, 3], [1, 4], [2, 3], [2, 4], [3, 4]]\n"
     ]
    }
   ],
   "source": [
    "#11. Create a recursive Python function to generate all possible combinations of a list of elements.\n",
    "def combinations(data, k):\n",
    "    if k == 1:\n",
    "        return [[d] for d in data]\n",
    "    else:\n",
    "        combs = []\n",
    "    for i in range(len(data)):\n",
    "        first_element = data[i]\n",
    "        remaining_elements = data[i+1:]\n",
    "        for sub_comb in combinations(remaining_elements, k-1):\n",
    "            combs.append([first_element] + sub_comb)\n",
    "    return combs\n",
    "data = [1, 2, 3, 4]\n",
    "result = combinations(data, 2)\n",
    "print(f\"Combinations of 2 elements from {data}: {result}\")"
   ]
  },
  {
   "cell_type": "markdown",
   "id": "315d68db",
   "metadata": {},
   "source": [
    "# Basics of functions"
   ]
  },
  {
   "cell_type": "code",
   "execution_count": null,
   "id": "b6fe93ca",
   "metadata": {},
   "outputs": [],
   "source": [
    "#1. What is a function in Python, and why is it used?\n",
    "A function is block of code that performs a specific task and it can be used throguh the program.\n",
    "it helps to organize the code,promote reuse code,increasing abstraction,reduce redundency,and improve modularity."
   ]
  },
  {
   "cell_type": "code",
   "execution_count": 81,
   "id": "5b1d237b",
   "metadata": {},
   "outputs": [
    {
     "name": "stdout",
     "output_type": "stream",
     "text": [
      "Area of the circle: 78.53975\n"
     ]
    }
   ],
   "source": [
    "def area_of_circle(radius):\n",
    "    pi = 3.14159\n",
    "    return pi * radius**2\n",
    "result = area_of_circle(5)\n",
    "print(f\"Area of the circle: {result}\")"
   ]
  },
  {
   "cell_type": "code",
   "execution_count": 82,
   "id": "7683538b",
   "metadata": {},
   "outputs": [
    {
     "name": "stdout",
     "output_type": "stream",
     "text": [
      "7\n"
     ]
    }
   ],
   "source": [
    "#2. How do you define a function in Python? Provide an example.\n",
    "def add(x,y):\n",
    "    return x+y\n",
    "result=add(3,4)\n",
    "print(result)"
   ]
  },
  {
   "cell_type": "code",
   "execution_count": null,
   "id": "056f8730",
   "metadata": {},
   "outputs": [],
   "source": [
    "#3. Explain the difference between a function definition and a function call.\n",
    "function definition:-\n",
    "    function is a blueprint for a block code,it performs a specific task.\n",
    "    defines the function names,parameters and body.\n",
    "    it doesn't actually executed the code"
   ]
  },
  {
   "cell_type": "code",
   "execution_count": 83,
   "id": "73bf2c74",
   "metadata": {},
   "outputs": [
    {
     "data": {
      "text/plain": [
       "8"
      ]
     },
     "execution_count": 83,
     "metadata": {},
     "output_type": "execute_result"
    }
   ],
   "source": [
    "#example for function \n",
    "def add(x,y):\n",
    "    return x+y\n",
    "add(3,5)"
   ]
  },
  {
   "cell_type": "code",
   "execution_count": null,
   "id": "8711d4e0",
   "metadata": {},
   "outputs": [],
   "source": [
    "#function call definition\n",
    "Invokes the previously defined function to perform its task.\n",
    "Provides the necessary arguments (if any) to the function.\n",
    "Executes the function's code and returns the result."
   ]
  },
  {
   "cell_type": "code",
   "execution_count": 84,
   "id": "e6091fe7",
   "metadata": {},
   "outputs": [
    {
     "name": "stdout",
     "output_type": "stream",
     "text": [
      "4+5 is :9\n"
     ]
    }
   ],
   "source": [
    "result=add(4,5)\n",
    "print(f\"4+5 is :{result}\")"
   ]
  },
  {
   "cell_type": "code",
   "execution_count": 85,
   "id": "701e7ee9",
   "metadata": {},
   "outputs": [
    {
     "name": "stdout",
     "output_type": "stream",
     "text": [
      "enter the first number:56\n",
      "enter the second number:34\n",
      "add is:90.0\n"
     ]
    }
   ],
   "source": [
    "#4. Write a Python program that defines a function to calculate the sum of two numbers and then calls the function.\n",
    "def add(x,y):\n",
    "    return x+y\n",
    "x=float(input(\"enter the first number:\"))\n",
    "y=float(input(\"enter the second number:\"))\n",
    "result=add(x,y)\n",
    "print(f\"add is:{result}\")\n"
   ]
  },
  {
   "cell_type": "code",
   "execution_count": 86,
   "id": "a6b8fa0f",
   "metadata": {},
   "outputs": [
    {
     "name": "stdout",
     "output_type": "stream",
     "text": [
      "enter the first number:56\n",
      "enter the second number:44\n",
      "sum of 56.0 and 44.0 is :100.0\n"
     ]
    }
   ],
   "source": [
    "def sum(x,y):\n",
    "    return x+y\n",
    "x=float(input(\"enter the first number:\"))\n",
    "y=float(input(\"enter the second number:\"))\n",
    "result=sum(x,y)\n",
    "print(f\"sum of {x} and {y} is :{result}\")"
   ]
  },
  {
   "cell_type": "code",
   "execution_count": null,
   "id": "1c93058c",
   "metadata": {},
   "outputs": [],
   "source": [
    "#5. What is a function signature, and what information does it typically include?\n",
    "A function signature is describes the interface of a function, providing information about\n",
    "its parameters and return value. It typically includes such as function name, parameters,return type and annovations"
   ]
  },
  {
   "cell_type": "code",
   "execution_count": 87,
   "id": "8f5b3208",
   "metadata": {},
   "outputs": [],
   "source": [
    "def calculate(length=float,weight=float):\n",
    "    return length*weight"
   ]
  },
  {
   "cell_type": "code",
   "execution_count": 88,
   "id": "29ad1a07",
   "metadata": {},
   "outputs": [
    {
     "data": {
      "text/plain": [
       "3600.0"
      ]
     },
     "execution_count": 88,
     "metadata": {},
     "output_type": "execute_result"
    }
   ],
   "source": [
    "calculate(length=45,weight=80.0)"
   ]
  },
  {
   "cell_type": "code",
   "execution_count": 89,
   "id": "03431b3d",
   "metadata": {},
   "outputs": [
    {
     "data": {
      "text/plain": [
       "50"
      ]
     },
     "execution_count": 89,
     "metadata": {},
     "output_type": "execute_result"
    }
   ],
   "source": [
    "calculate(length=10,weight=5)"
   ]
  },
  {
   "cell_type": "code",
   "execution_count": 90,
   "id": "cdfe8201",
   "metadata": {},
   "outputs": [
    {
     "data": {
      "text/plain": [
       "20"
      ]
     },
     "execution_count": 90,
     "metadata": {},
     "output_type": "execute_result"
    }
   ],
   "source": [
    "#6. Create a Python function that takes two arguments and returns their product.\n",
    "def product(x,y):\n",
    "    return x*y\n",
    "product(4,5)"
   ]
  },
  {
   "cell_type": "markdown",
   "id": "bbf96384",
   "metadata": {},
   "source": [
    "# function  parameters and arguments"
   ]
  },
  {
   "cell_type": "code",
   "execution_count": null,
   "id": "990fe89f",
   "metadata": {},
   "outputs": [],
   "source": [
    "#1. Explain the concepts of formal parameters and actual arguments in Python functions.\n",
    "A function is a powerful tools for modularizing the your code and improving the reusability.\n",
    "definiton of the formal parameters:-\n",
    "    these are the variables declared inside the function definition.these are the placeholders for the values \n",
    "    there are passed to the function when it is called.\n",
    "these formal parameters are located in the where they are listed inside the parentheses of the function."
   ]
  },
  {
   "cell_type": "code",
   "execution_count": 1,
   "id": "be01f94d",
   "metadata": {},
   "outputs": [
    {
     "data": {
      "text/plain": [
       "20"
      ]
     },
     "execution_count": 1,
     "metadata": {},
     "output_type": "execute_result"
    }
   ],
   "source": [
    "#example\n",
    "def mul(a,b):# a and b are the formal parameters\n",
    "    return a*b\n",
    "mul(4,5)"
   ]
  },
  {
   "cell_type": "code",
   "execution_count": null,
   "id": "4320f15c",
   "metadata": {},
   "outputs": [],
   "source": [
    "#definition of the actual parameters\n",
    "these are the values that are passed through the function when it is called.\n",
    "they are located inside the function when function is calling."
   ]
  },
  {
   "cell_type": "code",
   "execution_count": 2,
   "id": "bfd471cf",
   "metadata": {},
   "outputs": [
    {
     "name": "stdout",
     "output_type": "stream",
     "text": [
      "multiplication is: 40\n"
     ]
    }
   ],
   "source": [
    "#example\n",
    "result=mul(5,8)# 5 and 8 are the actual arguments\n",
    "print(f\"multiplication is: {result}\")"
   ]
  },
  {
   "cell_type": "code",
   "execution_count": 3,
   "id": "ceabcce9",
   "metadata": {},
   "outputs": [
    {
     "name": "stdout",
     "output_type": "stream",
     "text": [
      "hello,sharvin!\n"
     ]
    }
   ],
   "source": [
    "#2. Write a Python program that defines a function with default argument values.\n",
    "def greet(name=\"sharvin\",message=\"hello\"):\n",
    "    return (f\"{message},{name}!\")\n",
    "greeting=greet()\n",
    "print(greeting)"
   ]
  },
  {
   "cell_type": "code",
   "execution_count": 5,
   "id": "fb7329da",
   "metadata": {},
   "outputs": [
    {
     "name": "stdout",
     "output_type": "stream",
     "text": [
      "hello,yarrannagari!\n"
     ]
    }
   ],
   "source": [
    "greeting=greet(\"yarrannagari\",\"hello\")\n",
    "print(greeting)"
   ]
  },
  {
   "cell_type": "code",
   "execution_count": null,
   "id": "04d3e217",
   "metadata": {},
   "outputs": [],
   "source": [
    "#a funnction has default arguments values defines the the function takes the two arguments such as name and message.\n",
    "the name arguments will take the default value of \"sharvin\" and message will take the default value of \"hello\".\n",
    "when the function is called without any arguments,it will use the default values like name and message."
   ]
  },
  {
   "cell_type": "code",
   "execution_count": 6,
   "id": "9a4e2ff3",
   "metadata": {},
   "outputs": [
    {
     "name": "stdout",
     "output_type": "stream",
     "text": [
      "hello,sharvin!\n"
     ]
    }
   ],
   "source": [
    "greeting=greet()\n",
    "print(greeting)"
   ]
  },
  {
   "cell_type": "code",
   "execution_count": 7,
   "id": "e67937cf",
   "metadata": {},
   "outputs": [
    {
     "name": "stdout",
     "output_type": "stream",
     "text": [
      "hello,noshmitha!\n"
     ]
    }
   ],
   "source": [
    "greeting=greet(\"noshmitha\",\"hello\")\n",
    "print(greeting)"
   ]
  },
  {
   "cell_type": "code",
   "execution_count": 10,
   "id": "301d4134",
   "metadata": {},
   "outputs": [],
   "source": [
    "#3. How do you use keyword arguments in Python function calls? Provide an example.\n",
    "In Python,keyword arguments allow you to pass arguments to a function by explicitly specifying their names. \n",
    "this can be useful for several reasons such has improving the reusability,reducing errors and increasing flexibility."
   ]
  },
  {
   "cell_type": "code",
   "execution_count": 18,
   "id": "49ac9325",
   "metadata": {},
   "outputs": [
    {
     "name": "stdout",
     "output_type": "stream",
     "text": [
      "supriya,hello!\n",
      "krishna kumari,good morning!\n"
     ]
    }
   ],
   "source": [
    "def greet(name=\"supriya\",message=\"hello\"):\n",
    "    return (f\"{name},{message}!\")\n",
    "greeting=greet()\n",
    "print(greeting)\n",
    "greeting=greet(\"krishna kumari\",\"good morning\")\n",
    "print(greeting)"
   ]
  },
  {
   "cell_type": "code",
   "execution_count": 19,
   "id": "7262c2ff",
   "metadata": {},
   "outputs": [
    {
     "name": "stdout",
     "output_type": "stream",
     "text": [
      "good morning,lakshmi prasanna!\n"
     ]
    }
   ],
   "source": [
    "greeting=greet(\"good morning\",\"lakshmi prasanna\")\n",
    "print(greeting)"
   ]
  },
  {
   "cell_type": "code",
   "execution_count": 20,
   "id": "dba441ad",
   "metadata": {},
   "outputs": [
    {
     "name": "stdout",
     "output_type": "stream",
     "text": [
      "<function greet at 0x0000019D75D4F9A0>\n",
      "good morning,nagasubba reddy!\n"
     ]
    }
   ],
   "source": [
    "greeting=greet(\"good morning\",\"nagasubba reddy\")\n",
    "print(greet)\n",
    "print(greeting)"
   ]
  },
  {
   "cell_type": "code",
   "execution_count": 21,
   "id": "d59613b7",
   "metadata": {},
   "outputs": [
    {
     "name": "stdout",
     "output_type": "stream",
     "text": [
      "nagasubba reddy,good morning!\n"
     ]
    }
   ],
   "source": [
    "greeting=greet(message=\"good morning\",name=\"nagasubba reddy\")\n",
    "print(greeting)"
   ]
  },
  {
   "cell_type": "code",
   "execution_count": 22,
   "id": "8e4d8e72",
   "metadata": {},
   "outputs": [
    {
     "name": "stdout",
     "output_type": "stream",
     "text": [
      "eve,good evening!\n"
     ]
    }
   ],
   "source": [
    "greeting=greet(\"eve\",message=\"good evening\")\n",
    "print(greeting)"
   ]
  },
  {
   "cell_type": "code",
   "execution_count": 25,
   "id": "8d813368",
   "metadata": {},
   "outputs": [
    {
     "name": "stdout",
     "output_type": "stream",
     "text": [
      "the total sum is: 35\n"
     ]
    }
   ],
   "source": [
    "#4. Create a Python function that accepts a variable number of arguments and calculates their sum.\n",
    "def sum_all(*args):\n",
    "    total=0\n",
    "    for arg in args:\n",
    "        total += arg\n",
    "    return total\n",
    "result=sum_all(2,3,4,5,6,7,8)\n",
    "print(f\"the total sum is: {result}\")"
   ]
  },
  {
   "cell_type": "code",
   "execution_count": null,
   "id": "c62fabac",
   "metadata": {},
   "outputs": [],
   "source": [
    "#5. What is the purpose of the `*args` and `**kwargs` syntax in function parameter lists?\n",
    "*args: This syntax allows a function to accept a variable number of positional arguments. \n",
    "These arguments are automatically packed into a tuple inside the function. \n",
    "This allows you to write functions that can handle an unknown number of inputs, \n",
    "making your code more flexible and adaptable."
   ]
  },
  {
   "cell_type": "code",
   "execution_count": 27,
   "id": "12999fbe",
   "metadata": {},
   "outputs": [
    {
     "name": "stdout",
     "output_type": "stream",
     "text": [
      "the total add is : 15\n"
     ]
    }
   ],
   "source": [
    "def add_of(*args):\n",
    "    total=0\n",
    "    for arg in args:\n",
    "        total += arg\n",
    "    return total\n",
    "result=add_of(1,2,3,4,5)\n",
    "print(f\"the total add is : {result}\")\n",
    "    "
   ]
  },
  {
   "cell_type": "code",
   "execution_count": null,
   "id": "6b92c0f8",
   "metadata": {},
   "outputs": [],
   "source": [
    "**kwargs: This syntax allows a function to accept a variable number of keyword arguments. \n",
    "These arguments are automatically packed into a dictionary inside the function. \n",
    "This allows you to write functions that can accept different types of optional arguments, making your code more customizable."
   ]
  },
  {
   "cell_type": "code",
   "execution_count": 41,
   "id": "87176f09",
   "metadata": {},
   "outputs": [
    {
     "name": "stdout",
     "output_type": "stream",
     "text": [
      "hello,shiva!\n",
      "hello,Alice!you are 30 years oldMs.\n"
     ]
    }
   ],
   "source": [
    "def greet_person(hello,**kwargs):\n",
    "    message = f\"hello,{hello}!\"\n",
    "    if \"age\" in kwargs:\n",
    "        age=kwargs[\"age\"]\n",
    "        message += f\"you are {age} years old\"\n",
    "    if \"title\" in kwargs:\n",
    "        title=kwargs[\"title\"]\n",
    "        message +=f\"{title}\"\n",
    "    return message  \n",
    "greeting = greet_person(\"shiva\")\n",
    "print(greeting)\n",
    "greeting = greet_person(\"Alice\", age=30, title=\"Ms.\")\n",
    "print(greeting) "
   ]
  },
  {
   "cell_type": "markdown",
   "id": "8b6473ff",
   "metadata": {},
   "source": [
    "# Return Values and Scoping:"
   ]
  },
  {
   "cell_type": "code",
   "execution_count": null,
   "id": "14ca87b8",
   "metadata": {},
   "outputs": [],
   "source": [
    "#1. Describe the role of the `return` statement in Python functions and provide examples.\n",
    "return statement plays a crucial role in the function there are two way to performing functions\n",
    "1.exiting function\n",
    "it return statement makes the end of the function executes.\n",
    "the function stops the execution and return controls to the caller.\n",
    "this allows for controlled execution code inside the function\n",
    "2.returning a function\n",
    "it return statement can be used to return a value from the function.\n",
    "this value can be python objects,including integers,list,string,dictionary or even any functions.\n",
    "this enables returns the outputs or results to the caller."
   ]
  },
  {
   "cell_type": "code",
   "execution_count": 25,
   "id": "ee853537",
   "metadata": {},
   "outputs": [
    {
     "name": "stdout",
     "output_type": "stream",
     "text": [
      "the sum of number is: 17\n"
     ]
    }
   ],
   "source": [
    "#function return with in statement\n",
    "def add_numbers(a,b):\n",
    "    result=a+b\n",
    "    return result\n",
    "sum=add_numbers(8,9)\n",
    "print(f\"the sum of number is: {sum}\")\n"
   ]
  },
  {
   "cell_type": "code",
   "execution_count": 41,
   "id": "617980da",
   "metadata": {},
   "outputs": [
    {
     "name": "stdout",
     "output_type": "stream",
     "text": [
      "you are eligible for vote\n"
     ]
    }
   ],
   "source": [
    "#function used mutiple return within the function\n",
    "def check_age(age):\n",
    "    if age >= 18:\n",
    "        return \"you are eligible for vote\"\n",
    "    else:\n",
    "        return \"you are not eligible for vote\"\n",
    "vote_status=check_age(20)\n",
    "print(vote_status)"
   ]
  },
  {
   "cell_type": "code",
   "execution_count": null,
   "id": "f57cd548",
   "metadata": {},
   "outputs": [],
   "source": [
    "#2. Explain the concept of variable scope in Python, including local and global variables.\n",
    "Local Variables:\n",
    "Local variables are declared within a function and exist only within that specific function's execution context.\n",
    "They are not accessible outside the function unless explicitly returned.\n",
    "This helps maintain code modularity and prevents unintended modification of variables from other parts of the program.\n",
    "Global Variables:\n",
    "Global variables are declared outside any function and are accessible throughout the entire program.\n",
    "They can be accessed and modified by any function or part of the code.\n",
    "While convenient, global variables should be used sparingly as they can lead to unintended side effects and make code less modular and harder to manage.\n"
   ]
  },
  {
   "cell_type": "code",
   "execution_count": 42,
   "id": "ef187925",
   "metadata": {},
   "outputs": [
    {
     "name": "stdout",
     "output_type": "stream",
     "text": [
      "the local variable inside the function is 10\n"
     ]
    }
   ],
   "source": [
    "#local variable\n",
    "def local_value():\n",
    "    local_variable=10\n",
    "    print(f\"the local variable inside the function is {local_variable}\")\n",
    "local_value()"
   ]
  },
  {
   "cell_type": "code",
   "execution_count": 19,
   "id": "a4737c3a",
   "metadata": {},
   "outputs": [
    {
     "name": "stdout",
     "output_type": "stream",
     "text": [
      "the global variable outside the function is 15\n",
      "the global variable outside the function is None\n"
     ]
    }
   ],
   "source": [
    "#global variable\n",
    "global_variable=15\n",
    "def global_value():\n",
    "    global global_variable\n",
    "    print(f\"the global variable outside the function is {global_variable}\")\n",
    "    global_variable += 1\n",
    "result=global_value()\n",
    "print(f\"the global variable outside the function is {result}\")"
   ]
  },
  {
   "cell_type": "code",
   "execution_count": 33,
   "id": "f97c25c3",
   "metadata": {},
   "outputs": [
    {
     "name": "stdout",
     "output_type": "stream",
     "text": [
      "global_count: 5\n"
     ]
    }
   ],
   "source": [
    "#3. Write a Python program that demonstrates the use of global variables within functions.\n",
    "global_count=0\n",
    "def increment_count():\n",
    "    global global_count\n",
    "    global_count += 1\n",
    "for i in range(5):\n",
    "    increment_count()\n",
    "print(f\"global_count: {global_count}\")"
   ]
  },
  {
   "cell_type": "code",
   "execution_count": 2,
   "id": "b0a435f7",
   "metadata": {},
   "outputs": [
    {
     "name": "stdout",
     "output_type": "stream",
     "text": [
      "factorial is : 120\n"
     ]
    }
   ],
   "source": [
    "#4. Create a Python function that calculates the factorial of a number and returns it.\n",
    "def factorial(n):\n",
    "    if n == 0:\n",
    "        return 1\n",
    "    else:\n",
    "        return n*factorial(n-1)\n",
    "result=factorial(5)\n",
    "print(f\"factorial is : {result}\")"
   ]
  },
  {
   "cell_type": "code",
   "execution_count": 3,
   "id": "9eaf2379",
   "metadata": {},
   "outputs": [
    {
     "name": "stdout",
     "output_type": "stream",
     "text": [
      "Argument value inside the function: 20\n"
     ]
    }
   ],
   "source": [
    "#5. How can you access variables defined outside a function from within the function?\n",
    "def my_function(value):\n",
    "    print(f\"Argument value inside the function: {value}\")\n",
    "initial_value = 20\n",
    "my_function(initial_value)"
   ]
  },
  {
   "cell_type": "markdown",
   "id": "98375e83",
   "metadata": {},
   "source": [
    "# Lambda Functions and Higher-Order Functions:\n"
   ]
  },
  {
   "cell_type": "code",
   "execution_count": null,
   "id": "3f7695b1",
   "metadata": {},
   "outputs": [],
   "source": [
    "#1. What are lambda functions in Python, and when are they typically used?\n",
    "Lambda functions, also known as anonymous functions, are concise, \n",
    "single-line functions defined using the lambda keyword in Python. They are typically used for short, a\n",
    "nonymous functions that take a single expression as a body and are typically used for quick and dirty tasks."
   ]
  },
  {
   "cell_type": "code",
   "execution_count": 5,
   "id": "7d8c0361",
   "metadata": {},
   "outputs": [
    {
     "name": "stdout",
     "output_type": "stream",
     "text": [
      "Sorted numbers: [1, 2, 3, 4, 5]\n"
     ]
    }
   ],
   "source": [
    "numbers = [5, 2, 1, 4, 3]\n",
    "sorted_numbers = sorted(numbers, key=lambda x: x**2)\n",
    "print(f\"Sorted numbers: {sorted_numbers}\")"
   ]
  },
  {
   "cell_type": "code",
   "execution_count": 6,
   "id": "c3a801ad",
   "metadata": {},
   "outputs": [
    {
     "name": "stdout",
     "output_type": "stream",
     "text": [
      "Sorted data: [('Chammu', 20), ('appu', 25), ('Diana', 28), ('Bablu', 30)]\n"
     ]
    }
   ],
   "source": [
    "#2. Write a Python program that uses lambda functions to sort a list of tuples based on the second element.\n",
    "data = [(\"appu\", 25), (\"Bablu\", 30), (\"Chammu\", 20), (\"Diana\", 28)]\n",
    "sorted_data = sorted(data, key=lambda x: x[1])\n",
    "print(f\"Sorted data: {sorted_data}\")"
   ]
  },
  {
   "cell_type": "code",
   "execution_count": 7,
   "id": "73f19cda",
   "metadata": {},
   "outputs": [
    {
     "name": "stdout",
     "output_type": "stream",
     "text": [
      "Original numbers: [1, 2, 3, 4, 5]\n",
      "Squared numbers: [1, 4, 9, 16, 25]\n"
     ]
    }
   ],
   "source": [
    "#3. Explain the concept of higher-order functions in Python, and provide an example.\n",
    "def square(x):\n",
    "    return x * x\n",
    "def apply_to_list(func, data):\n",
    "    return [func(x) for x in data]\n",
    "numbers = [1, 2, 3, 4, 5]\n",
    "squared_numbers = apply_to_list(square, numbers)\n",
    "print(f\"Original numbers: {numbers}\")\n",
    "print(f\"Squared numbers: {squared_numbers}\")"
   ]
  },
  {
   "cell_type": "code",
   "execution_count": 9,
   "id": "eeb1baec",
   "metadata": {},
   "outputs": [
    {
     "name": "stdout",
     "output_type": "stream",
     "text": [
      "Original numbers: [7, 8, 3, 4, 5]\n",
      "Squared numbers: [49, 64, 9, 16, 25]\n"
     ]
    }
   ],
   "source": [
    "#4. Create a Python function that takes a list of numbers and a function as arguments, applying the function to each element in the list.\n",
    "def apply_function(func, data):\n",
    "    return [func(x) for x in data]\n",
    "numbers = [7,8,3, 4, 5]\n",
    "def square(x):\n",
    "    return x * x\n",
    "squared_numbers = apply_function(square, numbers)\n",
    "print(f\"Original numbers: {numbers}\")\n",
    "print(f\"Squared numbers: {squared_numbers}\")"
   ]
  },
  {
   "cell_type": "markdown",
   "id": "69f0e9b8",
   "metadata": {},
   "source": [
    "# Built-in Functions:"
   ]
  },
  {
   "cell_type": "code",
   "execution_count": 11,
   "id": "36fa26d3",
   "metadata": {},
   "outputs": [
    {
     "name": "stdout",
     "output_type": "stream",
     "text": [
      "length of the list: 6\n"
     ]
    }
   ],
   "source": [
    "#1. Describe the role of built-in functions like `len()`, `max()`, and `min()` in Python\n",
    "my_list=[1,2,3,4,5,6]\n",
    "result=len(my_list)\n",
    "print(f\"length of the list: {result}\")"
   ]
  },
  {
   "cell_type": "code",
   "execution_count": 12,
   "id": "0437f94a",
   "metadata": {},
   "outputs": [
    {
     "name": "stdout",
     "output_type": "stream",
     "text": [
      "vikisha\n"
     ]
    }
   ],
   "source": [
    "string=[\"suppi\",\"supriya\",\"vikisha\",\"noshmitha\",\"sharvin\"]\n",
    "result=max(string)\n",
    "print(result)"
   ]
  },
  {
   "cell_type": "code",
   "execution_count": 15,
   "id": "a997e769",
   "metadata": {},
   "outputs": [
    {
     "name": "stdout",
     "output_type": "stream",
     "text": [
      "noshmitha\n"
     ]
    }
   ],
   "source": [
    "string=[\"suppi\",\"supriya\",\"vikisha\",\"noshmitha\",\"sharvin\"]\n",
    "result=min(string)\n",
    "print(result)"
   ]
  },
  {
   "cell_type": "code",
   "execution_count": 16,
   "id": "5cedd6aa",
   "metadata": {},
   "outputs": [
    {
     "name": "stdout",
     "output_type": "stream",
     "text": [
      "length of the list: 6\n"
     ]
    }
   ],
   "source": [
    "my_list=[1,2,3,4,5,6]\n",
    "result=max(my_list)\n",
    "print(f\"length of the list: {result}\")"
   ]
  },
  {
   "cell_type": "code",
   "execution_count": 17,
   "id": "6a7320f3",
   "metadata": {},
   "outputs": [
    {
     "name": "stdout",
     "output_type": "stream",
     "text": [
      "length of the list: 1\n"
     ]
    }
   ],
   "source": [
    "my_list=[1,2,3,4,5,6]\n",
    "result=min(my_list)\n",
    "print(f\"length of the list: {result}\")"
   ]
  },
  {
   "cell_type": "code",
   "execution_count": 20,
   "id": "47a1f9b7",
   "metadata": {},
   "outputs": [
    {
     "name": "stdout",
     "output_type": "stream",
     "text": [
      "[2, 4, 6, 8, 10, 12]\n"
     ]
    }
   ],
   "source": [
    "#2. Write a Python program that uses the `map()` function to apply a function to each element of a list.\n",
    "my_list=[1,2,3,4,5,6]\n",
    "def double(x):\n",
    "    return x*2\n",
    "double_numbers=map(double,my_list)\n",
    "result=list(double_numbers)\n",
    "print(result)"
   ]
  },
  {
   "cell_type": "code",
   "execution_count": 22,
   "id": "5cfc3e59",
   "metadata": {},
   "outputs": [
    {
     "name": "stdout",
     "output_type": "stream",
     "text": [
      "[2, 4, 6]\n"
     ]
    }
   ],
   "source": [
    "#3. How does the `filter()` function work in Python, and when would you use it?\n",
    "numbers=[2,3,4,5,6]\n",
    "filtered_list=list(filter(lambda x : x % 2 == 0,numbers))\n",
    "print(filtered_list)"
   ]
  },
  {
   "cell_type": "code",
   "execution_count": 17,
   "id": "80bbf108",
   "metadata": {},
   "outputs": [
    {
     "name": "stdout",
     "output_type": "stream",
     "text": [
      "3628800\n"
     ]
    }
   ],
   "source": [
    "#4. Create a Python program that uses the `reduce()` function to find the product of all elements in a list.\n",
    "from functools import reduce\n",
    "my_list=[1,2,3,4,5,6,7,8,9,10]\n",
    "filtered_list=reduce(lambda x,y: x*y ,my_list)\n",
    "print(filtered_list)"
   ]
  },
  {
   "cell_type": "markdown",
   "id": "30b64075",
   "metadata": {},
   "source": [
    "# Function Documentation and Best Practices:"
   ]
  },
  {
   "cell_type": "code",
   "execution_count": null,
   "id": "45f42c64",
   "metadata": {},
   "outputs": [],
   "source": [
    "#1. Explain the purpose of docstrings in Python functions and how to write them.\n",
    "Docstrings are string literals used to document Python functions, modules, classes, and methods. \n",
    "it improves the code readability and maintainability.\n",
    "it improves the code discoverability and usability.\n",
    "enhance single testing and debugging."
   ]
  },
  {
   "cell_type": "code",
   "execution_count": 26,
   "id": "9220e360",
   "metadata": {},
   "outputs": [
    {
     "data": {
      "text/plain": [
       "9"
      ]
     },
     "execution_count": 26,
     "metadata": {},
     "output_type": "execute_result"
    }
   ],
   "source": [
    "def docstring(a,b):\n",
    "    return a+b\n",
    "docstring(4,5)"
   ]
  },
  {
   "cell_type": "code",
   "execution_count": 27,
   "id": "92a21a97",
   "metadata": {},
   "outputs": [
    {
     "data": {
      "text/plain": [
       "20"
      ]
     },
     "execution_count": 27,
     "metadata": {},
     "output_type": "execute_result"
    }
   ],
   "source": [
    "def my_function(a,b):\n",
    "    return a*b\n",
    "my_function(4,5)"
   ]
  },
  {
   "cell_type": "code",
   "execution_count": null,
   "id": "d9ed15aa",
   "metadata": {},
   "outputs": [],
   "source": [
    "#2.describe some best practices for naming functions and variables in python, including naming and guidelines.\n",
    "naming functions and variablesare plays a  crucial  role for writing clear, readable, and maintainable code."
   ]
  },
  {
   "cell_type": "code",
   "execution_count": 28,
   "id": "52f17c6d",
   "metadata": {},
   "outputs": [
    {
     "data": {
      "text/plain": [
       "30"
      ]
     },
     "execution_count": 28,
     "metadata": {},
     "output_type": "execute_result"
    }
   ],
   "source": [
    "def calculate_area(length, width):\n",
    "    area = length * width\n",
    "    return area\n",
    "calculate_area(5,6)"
   ]
  },
  {
   "cell_type": "code",
   "execution_count": null,
   "id": "515afd2f",
   "metadata": {},
   "outputs": [],
   "source": []
  }
 ],
 "metadata": {
  "kernelspec": {
   "display_name": "Python 3 (ipykernel)",
   "language": "python",
   "name": "python3"
  },
  "language_info": {
   "codemirror_mode": {
    "name": "ipython",
    "version": 3
   },
   "file_extension": ".py",
   "mimetype": "text/x-python",
   "name": "python",
   "nbconvert_exporter": "python",
   "pygments_lexer": "ipython3",
   "version": "3.10.9"
  }
 },
 "nbformat": 4,
 "nbformat_minor": 5
}
